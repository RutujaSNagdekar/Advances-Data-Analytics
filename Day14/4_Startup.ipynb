{
 "cells": [
  {
   "cell_type": "code",
   "execution_count": 296,
   "id": "04b00426-fe65-48f4-85a8-bfdcc82679a4",
   "metadata": {},
   "outputs": [],
   "source": [
    "\n",
    "Initial_Investment = 50000  # Investment amount in dollars\n",
    "\n",
    "success_rate = 0.2    # Probability of successful outcome\n",
    "Failure_loss = 0.5   # Fraction of investment loss in case of failure\n",
    "failure_rate = 0.8\n",
    "Success_multiplier = 10 # multiplier on investment if successful\n",
    "num_simulations = 10000\n"
   ]
  },
  {
   "cell_type": "code",
   "execution_count": 297,
   "id": "7a40869a-a5c0-4fa2-8ace-b671947355af",
   "metadata": {},
   "outputs": [],
   "source": [
    "import numpy as np\n"
   ]
  },
  {
   "cell_type": "code",
   "execution_count": null,
   "id": "96825f23-95c9-4404-a970-cdab796f5ce6",
   "metadata": {},
   "outputs": [],
   "source": []
  },
  {
   "cell_type": "code",
   "execution_count": 298,
   "id": "955c7bfe-0eb3-400b-aef6-1cc23636fce2",
   "metadata": {},
   "outputs": [],
   "source": [
    "final_values= []"
   ]
  },
  {
   "cell_type": "code",
   "execution_count": 299,
   "id": "8239fcf2-890d-4314-8752-473dfc33feb1",
   "metadata": {},
   "outputs": [],
   "source": [
    "# Monte Carlo Simulation \n",
    "for _ in range(num_simulations):\n",
    "    success = np.random.choice([1,0],p=[success_rate, failure_rate])\n",
    "    if success ==1:\n",
    "        final_value = Initial_Investment * Success_multiplier\n",
    "    else:\n",
    "        final_value = Initial_Investment * (1 - Failure_loss )\n",
    "    final_values.append(final_value)\n"
   ]
  },
  {
   "cell_type": "code",
   "execution_count": null,
   "id": "830dda3e-f036-4d4e-bd47-8b0e2a2b2836",
   "metadata": {},
   "outputs": [],
   "source": []
  },
  {
   "cell_type": "code",
   "execution_count": 300,
   "id": "4ab53f50-f83d-4cc1-8f8c-51c804dfcb79",
   "metadata": {},
   "outputs": [
    {
     "data": {
      "image/png": "[encoded data removed]",
      "text/plain": [
       "<Figure size 640x480 with 1 Axes>"
      ]
     },
     "metadata": {},
     "output_type": "display_data"
    }
   ],
   "source": [
    "#Let us plot\n",
    "import matplotlib.pyplot as plt\n",
    "fig, ax = plt.subplots()\n",
    "ax.hist(final_values , bins = 15)\n",
    "plt.show()"
   ]
  },
  {
   "cell_type": "code",
   "execution_count": 310,
   "id": "6fdce49c-3f44-4114-b61b-1e587a599f7a",
   "metadata": {},
   "outputs": [
    {
     "name": "stdout",
     "output_type": "stream",
     "text": [
      "Mean end value: $119430.00\n",
      "Probability of loss: 80.12%\n"
     ]
    }
   ],
   "source": [
    "# Results\n",
    "mean_end_value = np.mean(final_values) # Mean of all simulated end values\n",
    "\n",
    "# Proportion of cases where we have a loss (End annual value < Initial investment)\n",
    "risk_of_loss = np.mean(np.array(final_values) < Initial_Investment)\n",
    "\n",
    "print(f'Mean end value: ${mean_end_value:.2f}')\n",
    "print(f'Probability of loss: {risk_of_loss *100:.2f}%')"
   ]
  },
  {
   "cell_type": "code",
   "execution_count": 312,
   "id": "d668dc7d-d448-4b05-81c7-1446e79900b7",
   "metadata": {},
   "outputs": [],
   "source": [
    "#Exercise: IN general, 5% of the people who take loans , default. we are still able to recover \n",
    "#30% of their loan amount. For a loan amount of $10,000 simulate 10,000 cases \n",
    "#find the average loss and probability default using monte carlo  "
   ]
  },
  {
   "cell_type": "code",
   "execution_count": 314,
   "id": "c67f9d08-c1cb-4fee-9255-c953420d7224",
   "metadata": {},
   "outputs": [],
   "source": [
    "Initial_amount =10000\n",
    "num_simulation = 10000\n",
    "success_rate = 0.3\n",
    "failure_rate = 0.7\n",
    "failure_loss = 0.95"
   ]
  },
  {
   "cell_type": "code",
   "execution_count": 316,
   "id": "cb0bf750-6de7-46ea-9a66-f4d79aa0305a",
   "metadata": {},
   "outputs": [
    {
     "name": "stdout",
     "output_type": "stream",
     "text": [
      "None\n"
     ]
    }
   ],
   "source": [
    "for _  in range(num_simulations):\n",
    "    final_value = []\n",
    "    success = np.random.choice([1,0], p = [success_rate,failure_rate])\n",
    "    if success == 1:\n",
    "        loan_amount = Initial_amount+(Initial_amount*success_rate)\n",
    "    else:\n",
    "        loan_amount = Initial_amount-(Initial_amount*(1-failure_loss))\n",
    "\n",
    "    final_value = final_value.append(loan_amount)\n",
    "\n",
    "print(final_value)"
   ]
  },
  {
   "cell_type": "code",
   "execution_count": 318,
   "id": "ce50346c-1e69-46f6-8c0a-5bd423e52951",
   "metadata": {},
   "outputs": [
    {
     "ename": "TypeError",
     "evalue": "unsupported operand type(s) for /: 'NoneType' and 'int'",
     "output_type": "error",
     "traceback": [
      "\u001b[1;31m---------------------------------------------------------------------------\u001b[0m",
      "\u001b[1;31mTypeError\u001b[0m                                 Traceback (most recent call last)",
      "Cell \u001b[1;32mIn[318], line 2\u001b[0m\n\u001b[0;32m      1\u001b[0m \u001b[38;5;66;03m# Results\u001b[39;00m\n\u001b[1;32m----> 2\u001b[0m mean_end_value \u001b[38;5;241m=\u001b[39m np\u001b[38;5;241m.\u001b[39mmean(final_value) \u001b[38;5;66;03m# Mean of all simulated end values\u001b[39;00m\n\u001b[0;32m      4\u001b[0m \u001b[38;5;66;03m# Proportion of cases where we have a loss (End annual value < Initial investment)\u001b[39;00m\n\u001b[0;32m      5\u001b[0m risk_of_loss \u001b[38;5;241m=\u001b[39m np\u001b[38;5;241m.\u001b[39mmean(np\u001b[38;5;241m.\u001b[39marray(final_value) \u001b[38;5;241m<\u001b[39m Initial_amount)\n",
      "File \u001b[1;32m~\\AppData\\Local\\anaconda3\\Lib\\site-packages\\numpy\\core\\fromnumeric.py:3504\u001b[0m, in \u001b[0;36mmean\u001b[1;34m(a, axis, dtype, out, keepdims, where)\u001b[0m\n\u001b[0;32m   3501\u001b[0m     \u001b[38;5;28;01melse\u001b[39;00m:\n\u001b[0;32m   3502\u001b[0m         \u001b[38;5;28;01mreturn\u001b[39;00m mean(axis\u001b[38;5;241m=\u001b[39maxis, dtype\u001b[38;5;241m=\u001b[39mdtype, out\u001b[38;5;241m=\u001b[39mout, \u001b[38;5;241m*\u001b[39m\u001b[38;5;241m*\u001b[39mkwargs)\n\u001b[1;32m-> 3504\u001b[0m \u001b[38;5;28;01mreturn\u001b[39;00m _methods\u001b[38;5;241m.\u001b[39m_mean(a, axis\u001b[38;5;241m=\u001b[39maxis, dtype\u001b[38;5;241m=\u001b[39mdtype,\n\u001b[0;32m   3505\u001b[0m                       out\u001b[38;5;241m=\u001b[39mout, \u001b[38;5;241m*\u001b[39m\u001b[38;5;241m*\u001b[39mkwargs)\n",
      "File \u001b[1;32m~\\AppData\\Local\\anaconda3\\Lib\\site-packages\\numpy\\core\\_methods.py:131\u001b[0m, in \u001b[0;36m_mean\u001b[1;34m(a, axis, dtype, out, keepdims, where)\u001b[0m\n\u001b[0;32m    129\u001b[0m         ret \u001b[38;5;241m=\u001b[39m ret\u001b[38;5;241m.\u001b[39mdtype\u001b[38;5;241m.\u001b[39mtype(ret \u001b[38;5;241m/\u001b[39m rcount)\n\u001b[0;32m    130\u001b[0m \u001b[38;5;28;01melse\u001b[39;00m:\n\u001b[1;32m--> 131\u001b[0m     ret \u001b[38;5;241m=\u001b[39m ret \u001b[38;5;241m/\u001b[39m rcount\n\u001b[0;32m    133\u001b[0m \u001b[38;5;28;01mreturn\u001b[39;00m ret\n",
      "\u001b[1;31mTypeError\u001b[0m: unsupported operand type(s) for /: 'NoneType' and 'int'"
     ]
    }
   ],
   "source": [
    "# Results\n",
    "mean_end_value = np.mean(final_value) # Mean of all simulated end values\n",
    "\n",
    "# Proportion of cases where we have a loss (End annual value < Initial investment)\n",
    "risk_of_loss = np.mean(np.array(final_value) < Initial_amount)\n",
    "\n",
    "print(f'Mean end value: ${mean_end_value:.2f}')\n",
    "print(f'Probability of loss: {risk_of_loss *100:.2f}%')"
   ]
  },
  {
   "cell_type": "code",
   "execution_count": null,
   "id": "5fc1fee0-1f01-4c5c-b671-a1a13aa5a310",
   "metadata": {},
   "outputs": [],
   "source": []
  },
  {
   "cell_type": "code",
   "execution_count": null,
   "id": "0c78c84b-aa0a-4603-aa2d-d3d667b70f85",
   "metadata": {},
   "outputs": [],
   "source": []
  },
  {
   "cell_type": "code",
   "execution_count": null,
   "id": "58eee9dc-032c-4cfc-8a9c-678b43352865",
   "metadata": {},
   "outputs": [],
   "source": []
  },
  {
   "cell_type": "code",
   "execution_count": null,
   "id": "406c8c83-1c84-4cad-bf1e-d6e8fd7a8553",
   "metadata": {},
   "outputs": [],
   "source": []
  },
  {
   "cell_type": "code",
   "execution_count": null,
   "id": "5d1959c5-ee87-485b-b6a9-8548a0e09a0d",
   "metadata": {},
   "outputs": [],
   "source": []
  },
  {
   "cell_type": "code",
   "execution_count": null,
   "id": "44749ffd-c078-46f9-b08d-d2b09a344eec",
   "metadata": {},
   "outputs": [],
   "source": []
  },
  {
   "cell_type": "code",
   "execution_count": null,
   "id": "95fdf3be-6346-4684-9b2b-04fcad382bef",
   "metadata": {},
   "outputs": [],
   "source": []
  },
  {
   "cell_type": "code",
   "execution_count": null,
   "id": "f408ca9d-8ba8-4443-b16d-9e08e574c5d3",
   "metadata": {},
   "outputs": [],
   "source": []
  },
  {
   "cell_type": "code",
   "execution_count": null,
   "id": "05cfc710-9645-4e7c-89b5-cb4407697b6b",
   "metadata": {},
   "outputs": [],
   "source": []
  },
  {
   "cell_type": "code",
   "execution_count": null,
   "id": "e6bd3a72-fa16-42a6-9fbc-2ab103f8be16",
   "metadata": {},
   "outputs": [],
   "source": []
  },
  {
   "cell_type": "code",
   "execution_count": null,
   "id": "752ff8b2-3aba-4fae-9d90-14b147ff2dbd",
   "metadata": {},
   "outputs": [],
   "source": []
  }
 ],
 "metadata": {
  "kernelspec": {
   "display_name": "Python 3 (ipykernel)",
   "language": "python",
   "name": "python3"
  },
  "language_info": {
   "codemirror_mode": {
    "name": "ipython",
    "version": 3
   },
   "file_extension": ".py",
   "mimetype": "text/x-python",
   "name": "python",
   "nbconvert_exporter": "python",
   "pygments_lexer": "ipython3",
   "version": "3.12.4"
  }
 },
 "nbformat": 4,
 "nbformat_minor": 5
}
