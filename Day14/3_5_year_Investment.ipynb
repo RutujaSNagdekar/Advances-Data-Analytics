{
 "cells": [
  {
   "cell_type": "code",
   "execution_count": 1,
   "id": "ebf9e4b4-fc8a-4c9c-bd7c-4b504cb7417b",
   "metadata": {},
   "outputs": [
    {
     "name": "stdout",
     "output_type": "stream",
     "text": [
      "Mean end value: $40211.42\n",
      "Probability of loss: 0.10%\n"
     ]
    }
   ],
   "source": [
    "# Investment risk analysis using Mante Carlo\n",
    "import numpy as np\n",
    "\n",
    "# Parametes \n",
    "initial_investment = 10000 # Initial investment in dollars\n",
    "mean_return = 0.15         # Expected annual return \n",
    "std_dev = 0.15             # Standard deviation of returns\n",
    "no_of_years = 10\n",
    "num_simulatios = 1000      # Number of Monte Carlo simulations\n",
    "\n",
    "# Monte Carlo Simulation \n",
    "simulated_end_values = []\n",
    "for _ in range(num_simulatios):\n",
    "    investment_value = initial_investment\n",
    "    for _ in range(no_of_years):\n",
    "        # Generate a random annual return for each simulation \n",
    "        random_return = np.random.normal(mean_return, std_dev)\n",
    "        # Update the investment value for the year\n",
    "        investment_value *= (1+random_return)\n",
    "        # End value at the end of one year of investment\n",
    "        # end_value = initial_investment * (1+random_return)\n",
    "        # Store it in the list\n",
    "    simulated_end_values.append(investment_value)\n",
    "\n",
    "# Results\n",
    "mean_end_value = np.mean(simulated_end_values) # Mean of all simulated end values\n",
    "\n",
    "# Proportion of cases where we have a loss (End annual value < Initial investment)\n",
    "risk_of_loss = np.mean(np.array(simulated_end_values) < initial_investment)\n",
    "\n",
    "print(f'Mean end value: ${mean_end_value:.2f}')\n",
    "print(f'Probability of loss: {risk_of_loss *100:.2f}%')"
   ]
  },
  {
   "cell_type": "code",
   "execution_count": 7,
   "id": "b2d8403e-542e-4661-a8b5-12daa537c4c0",
   "metadata": {},
   "outputs": [],
   "source": [
    "random_return = np.random.normal(mean_return, std_dev)"
   ]
  },
  {
   "cell_type": "code",
   "execution_count": 9,
   "id": "b731e7d9-0ff6-4e6a-bf5e-c7ad1e8c9568",
   "metadata": {},
   "outputs": [
    {
     "data": {
      "text/plain": [
       "0.13410997638425198"
      ]
     },
     "execution_count": 9,
     "metadata": {},
     "output_type": "execute_result"
    }
   ],
   "source": [
    "random_return"
   ]
  },
  {
   "cell_type": "code",
   "execution_count": null,
   "id": "11871eba-910f-4bc3-b805-cd8180059095",
   "metadata": {},
   "outputs": [],
   "source": []
  }
 ],
 "metadata": {
  "kernelspec": {
   "display_name": "Python 3 (ipykernel)",
   "language": "python",
   "name": "python3"
  },
  "language_info": {
   "codemirror_mode": {
    "name": "ipython",
    "version": 3
   },
   "file_extension": ".py",
   "mimetype": "text/x-python",
   "name": "python",
   "nbconvert_exporter": "python",
   "pygments_lexer": "ipython3",
   "version": "3.12.4"
  }
 },
 "nbformat": 4,
 "nbformat_minor": 5
}
