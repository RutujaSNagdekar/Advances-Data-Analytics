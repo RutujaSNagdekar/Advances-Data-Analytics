{
 "cells": [
  {
   "cell_type": "code",
   "execution_count": 595,
   "id": "7f93dc87-f28f-4721-a43b-401b86219fca",
   "metadata": {},
   "outputs": [
    {
     "data": {
      "text/plain": [
       "'\\ndesign a simple game\\nChoose a number between 1 to 100\\nif the sum of the digits of your chosen number exceeds 12, you win 3 dollars\\nif the sum falls below the threshold value, you looses 1 dollar\\n'"
      ]
     },
     "execution_count": 595,
     "metadata": {},
     "output_type": "execute_result"
    }
   ],
   "source": [
    "'''\n",
    "design a simple game\n",
    "Choose a number between 1 to 100\n",
    "if the sum of the digits of your chosen number exceeds 12, you win 3 dollars\n",
    "if the sum falls below the threshold value, you looses 1 dollar\n",
    "'''\n"
   ]
  },
  {
   "cell_type": "code",
   "execution_count": 658,
   "id": "7214f20c-3bee-42ad-af64-3a5f1d19101e",
   "metadata": {},
   "outputs": [],
   "source": [
    "import random\n"
   ]
  },
  {
   "cell_type": "code",
   "execution_count": 660,
   "id": "a6ccb008-8036-4188-9682-275c8d2a3c4f",
   "metadata": {},
   "outputs": [],
   "source": [
    "#initializr variables\n",
    "total_winnings = 0\n",
    "total_losses = 0\n"
   ]
  },
  {
   "cell_type": "code",
   "execution_count": 662,
   "id": "d2c60d06-2882-4581-93e8-19bbd7acd2ef",
   "metadata": {},
   "outputs": [
    {
     "name": "stdout",
     "output_type": "stream",
     "text": [
      "Total Winnings: $675\n",
      "Total losses: $775\n",
      "Net Results: $-100\n"
     ]
    }
   ],
   "source": [
    "#Simulate 1000 trials\n",
    "for _ in range(1000):\n",
    "    #choose a random number between 1 to 100\n",
    "    choosen_num = random.randint(1,100)\n",
    "\n",
    "    #Calculate sum of digits\n",
    "    digit_sum = sum(int(digit) for digit in str(choosen_num))\n",
    "    #Check if digit_sum > 12\n",
    "    if digit_sum>12:\n",
    "        total_winnings +=3\n",
    "    else:\n",
    "        total_losses+=1\n",
    "\n",
    "#Calculate net innings and losses\n",
    "net_results = total_winnings-total_losses\n",
    "\n",
    "#print the results\n",
    "print(f\"Total Winnings: ${total_winnings}\")\n",
    "print(f\"Total losses: ${total_losses}\")\n",
    "print(f\"Net Results: ${net_results}\")"
   ]
  },
  {
   "cell_type": "code",
   "execution_count": 664,
   "id": "0ff74fe1-5ad1-474a-b53d-bf61f4887cb9",
   "metadata": {},
   "outputs": [
    {
     "name": "stdout",
     "output_type": "stream",
     "text": [
      "49 58 59 67 68 69 76 77 78 79 85 86 87 88 89 94 95 96 97 98 99 \n",
      "21\n"
     ]
    }
   ],
   "source": [
    "count =0\n",
    "for num in range(1,101):\n",
    "    digit_sum = sum(int(digit)  for digit in str(num))\n",
    "    #check if sum of digits id grater than 12\n",
    "    if  digit_sum> 12:\n",
    "        print(num , end =\" \") #print number\n",
    "        count+=1\n",
    "print()\n",
    "print(count)"
   ]
  },
  {
   "cell_type": "code",
   "execution_count": null,
   "id": "075e4f5f-d52b-4b0d-a2fe-dcbcfedda589",
   "metadata": {},
   "outputs": [],
   "source": []
  },
  {
   "cell_type": "markdown",
   "id": "67016549-f23d-43d9-bbea-74328bb1aac9",
   "metadata": {},
   "source": [
    "# Dice Question (3 parts)"
   ]
  },
  {
   "cell_type": "code",
   "execution_count": 277,
   "id": "1e499c3d-cd12-47b0-a8eb-920d77679e46",
   "metadata": {},
   "outputs": [],
   "source": [
    "import numpy as np"
   ]
  },
  {
   "cell_type": "code",
   "execution_count": 666,
   "id": "960c0297-a34f-446a-9f90-d5a44048a2ed",
   "metadata": {},
   "outputs": [
    {
     "name": "stdout",
     "output_type": "stream",
     "text": [
      "6\n"
     ]
    }
   ],
   "source": [
    "#part 1\n",
    "def roll_dice():\n",
    "    #Stimulation of rolling a dice twice,minimum number we get is 1 , max is 6\n",
    "    #Add results to the two stimulations,so possible values will be:\n",
    "    #(1,1) or (1,2) or (1,3) ......(6,6).....sum will be between 2 to 12\n",
    "    #Run multiple times to verify\n",
    "    return np.sum(np.random.randint(1,7,2))\n",
    "\n",
    "print(roll_dice())"
   ]
  },
  {
   "cell_type": "code",
   "execution_count": 279,
   "id": "461db7d6-e6f2-4480-8aa5-5eb4ed2eeff4",
   "metadata": {},
   "outputs": [
    {
     "data": {
      "text/plain": [
       "array([3, 6])"
      ]
     },
     "execution_count": 279,
     "metadata": {},
     "output_type": "execute_result"
    }
   ],
   "source": [
    "np.random.randint(1,7,2)"
   ]
  },
  {
   "cell_type": "code",
   "execution_count": 280,
   "id": "205015df-d684-40e7-b7fe-8d8b0a4eaf02",
   "metadata": {},
   "outputs": [],
   "source": [
    "#Part 2\n",
    "#SOmeone approaches us saying I will give you 5 dollars if you get 7 and take 1 $ from you if you get number other than 7"
   ]
  },
  {
   "cell_type": "code",
   "execution_count": 281,
   "id": "5d979f29-b64b-4db8-badf-834a4b3f0e58",
   "metadata": {},
   "outputs": [
    {
     "name": "stdout",
     "output_type": "stream",
     "text": [
      "[159. 841.]\n",
      "[182. 818.]\n",
      "[180. 820.]\n"
     ]
    }
   ],
   "source": [
    "#HWo do we know what will happen?\n",
    "#Out own monte carlo simulation like function\n",
    "\n",
    "def monte_carlo_simulation(runs=1000):\n",
    "    results = np.zeros(2)   #An array, results[0] and results[1] initialized to two zeroes\n",
    "    for _ in range(runs):\n",
    "        if roll_dice() ==7:\n",
    "            results[0]+=1\n",
    "        else:\n",
    "            results[1]+=1\n",
    "    return results\n",
    "\n",
    "#Test 3 times \n",
    "print(monte_carlo_simulation())\n",
    "print(monte_carlo_simulation())\n",
    "print(monte_carlo_simulation())   \n",
    "    "
   ]
  },
  {
   "cell_type": "code",
   "execution_count": 301,
   "id": "bf7e5999-4222-471b-9d16-235cefb9edbb",
   "metadata": {},
   "outputs": [
    {
     "name": "stdout",
     "output_type": "stream",
     "text": [
      "[171. 163. 169. 162. 162. 159. 164. 162. 165. 163. 173. 165. 200. 156.\n",
      " 174. 176. 168. 167. 157. 169. 176. 170. 157. 179. 176. 165. 182. 155.\n",
      " 164. 178. 171. 161. 156. 165. 163. 163. 170. 168. 178. 176. 158. 164.\n",
      " 175. 187. 189. 157. 146. 166. 167. 164. 151. 180. 185. 182. 173. 168.\n",
      " 154. 178. 177. 152. 167. 172. 153. 160. 163. 169. 155. 166. 158. 175.\n",
      " 166. 172. 181. 170. 176. 153. 167. 168. 156. 155. 185. 166. 174. 187.\n",
      " 171. 176. 170. 167. 170. 166. 174. 150. 171. 168. 183. 177. 171. 159.\n",
      " 159. 169. 179. 191. 146. 157. 180. 152. 162. 169. 165. 171. 161. 147.\n",
      " 176. 160. 155. 153. 156. 168. 160. 165. 167. 172. 169. 156. 163. 152.\n",
      " 186. 180. 158. 177. 168. 180. 163. 165. 162. 153. 180. 142. 180. 168.\n",
      " 183. 176. 172. 184. 159. 185. 163. 170. 150. 181. 132. 169. 160. 173.\n",
      " 170. 166. 174. 163. 190. 187. 163. 159. 171. 174. 155. 161. 155. 153.\n",
      " 175. 155. 178. 163. 174. 153. 166. 174. 174. 177. 192. 161. 171. 189.\n",
      " 165. 196. 156. 167. 161. 188. 162. 174. 157. 179. 173. 172. 152. 162.\n",
      " 179. 155. 173. 182. 167. 164. 155. 150. 166. 178. 173. 163. 159. 168.\n",
      " 172. 177. 162. 158. 190. 145. 168. 161. 177. 172. 155. 169. 151. 199.\n",
      " 161. 181. 184. 169. 181. 176. 156. 178. 170. 176. 166. 152. 158. 175.\n",
      " 176. 185. 168. 174. 186. 170. 166. 169. 171. 176. 187. 179. 177. 179.\n",
      " 171. 181. 181. 163. 155. 157. 180. 168. 167. 179. 163. 186. 154. 176.\n",
      " 188. 168. 184. 173. 162. 172. 154. 158. 170. 162. 153. 168. 168. 170.\n",
      " 151. 148. 159. 169. 164. 181. 178. 166. 137. 165. 156. 150. 156. 188.\n",
      " 148. 167. 189. 165. 159. 189. 164. 165. 164. 169. 171. 174. 165. 167.\n",
      " 165. 163. 160. 179. 165. 166. 181. 173. 179. 161. 163. 169. 169. 126.\n",
      " 141. 170. 162. 168. 174. 157. 167. 168. 182. 155. 177. 175. 166. 161.\n",
      " 167. 163. 154. 164. 190. 180. 168. 174. 170. 176. 166. 132. 169. 154.\n",
      " 166. 169. 167. 158. 166. 169. 163. 184. 174. 162. 166. 153. 177. 166.\n",
      " 179. 157. 160. 155. 165. 191. 150. 169. 163. 167. 159. 178. 177. 143.\n",
      " 166. 175. 166. 167. 177. 169. 181. 174. 176. 159. 179. 184. 160. 169.\n",
      " 164. 184. 163. 142. 148. 164. 183. 166. 156. 165. 166. 156. 153. 167.\n",
      " 178. 167. 167. 167. 180. 164. 157. 148. 161. 163. 173. 168. 168. 188.\n",
      " 177. 166. 190. 164. 165. 169. 150. 186. 170. 170. 182. 156. 185. 164.\n",
      " 160. 150. 175. 185. 171. 160. 169. 166. 171. 153. 171. 175. 151. 159.\n",
      " 154. 181. 152. 156. 175. 176. 155. 178. 169. 153. 151. 163. 169. 167.\n",
      " 179. 149. 157. 175. 190. 163. 160. 149. 161. 172. 181. 155. 181. 154.\n",
      " 146. 160. 164. 198. 159. 141. 163. 181. 172. 150. 165. 165. 175. 184.\n",
      " 176. 165. 176. 147. 155. 153. 169. 186. 165. 175. 176. 148. 185. 178.\n",
      " 173. 168. 147. 152. 196. 154. 165. 189. 167. 155. 166. 164. 154. 157.\n",
      " 167. 144. 171. 152. 163. 166. 173. 169. 161. 158. 165. 159. 190. 171.\n",
      " 160. 151. 177. 156. 193. 159. 153. 158. 173. 175. 154. 179. 181. 161.\n",
      " 164. 148. 172. 183. 171. 155. 175. 182. 168. 161. 182. 166. 164. 193.\n",
      " 183. 153. 192. 172. 171. 165. 155. 168. 168. 142. 159. 154. 185. 144.\n",
      " 177. 159. 161. 150. 160. 159. 178. 172. 150. 152. 150. 185. 165. 170.\n",
      " 141. 147. 172. 183. 170. 155. 163. 175. 152. 174. 185. 160. 167. 162.\n",
      " 164. 153. 176. 153. 163. 170. 150. 171. 155. 139. 169. 157. 167. 145.\n",
      " 176. 159. 187. 171. 188. 183. 174. 156. 181. 152. 156. 173. 173. 151.\n",
      " 170. 142. 148. 161. 160. 166. 165. 160. 160. 154. 144. 179. 182. 187.\n",
      " 163. 172. 185. 180. 154. 164. 155. 148. 145. 183. 177. 162. 152. 175.\n",
      " 162. 146. 173. 166. 157. 155. 163. 150. 181. 142. 185. 190. 178. 147.\n",
      " 171. 175. 157. 163. 180. 165. 164. 160. 175. 177. 159. 159. 183. 162.\n",
      " 175. 166. 193. 148. 167. 185. 164. 151. 167. 165. 170. 160. 165. 159.\n",
      " 178. 170. 172. 173. 185. 174. 174. 190. 164. 174. 172. 166. 154. 165.\n",
      " 157. 171. 166. 171. 141. 139. 172. 158. 156. 178. 177. 156. 172. 169.\n",
      " 158. 158. 157. 165. 165. 158. 171. 168. 161. 168. 151. 162. 148. 164.\n",
      " 171. 157. 157. 175. 159. 164. 158. 147. 178. 161. 187. 161. 168. 184.\n",
      " 168. 184. 175. 156. 153. 165. 172. 156. 160. 173. 144. 156. 169. 179.\n",
      " 180. 163. 167. 154. 171. 162. 180. 164. 164. 173. 161. 155. 152. 158.\n",
      " 152. 165. 158. 148. 176. 154. 162. 161. 173. 143. 166. 172. 167. 186.\n",
      " 169. 170. 172. 154. 159. 182. 163. 170. 170. 161. 186. 174. 181. 184.\n",
      " 161. 159. 171. 168. 178. 164. 171. 172. 179. 160. 173. 184. 156. 170.\n",
      " 134. 153. 177. 178. 170. 175. 179. 169. 158. 165. 163. 166. 147. 162.\n",
      " 172. 153. 187. 153. 135. 165. 162. 163. 166. 154. 168. 158. 179. 173.\n",
      " 162. 177. 167. 156. 152. 157. 182. 160. 163. 172. 183. 173. 172. 161.\n",
      " 168. 154. 172. 195. 168. 163. 162. 159. 169. 162. 156. 163. 179. 174.\n",
      " 167. 177. 168. 153. 153. 162. 180. 166. 159. 167. 176. 173. 166. 173.\n",
      " 170. 155. 156. 179. 143. 173. 169. 174. 169. 168. 177. 187. 186. 176.\n",
      " 175. 147. 171. 155. 196. 172. 163. 161. 164. 183. 170. 163. 185. 159.\n",
      " 154. 151. 145. 193. 176. 162. 163. 162. 165. 187. 165. 159. 157. 176.\n",
      " 182. 154. 150. 160. 192. 155. 156. 172. 179. 171. 184. 151. 192. 169.\n",
      " 173. 163. 142. 174. 153. 160. 156. 158. 171. 171. 166. 177. 160. 145.\n",
      " 171. 153. 174. 150. 154. 157. 169. 167. 161. 176. 154. 153. 164. 168.\n",
      " 180. 167. 179. 158. 164. 164. 161. 174. 154. 194. 135. 156. 171. 157.\n",
      " 163. 162. 161. 149. 168. 167.]\n"
     ]
    }
   ],
   "source": [
    "#Part 3\n",
    "\n",
    "#No do it 1000 times : Take some time \n",
    "results = np.zeros(1000)\n",
    "\n",
    "for i in range(1000):\n",
    "    results[i] = monte_carlo_simulation()[0]\n",
    "print(results)"
   ]
  },
  {
   "cell_type": "code",
   "execution_count": 302,
   "id": "624bd0b2-d034-4075-9196-6611a75c5dcb",
   "metadata": {},
   "outputs": [
    {
     "data": {
      "image/png": "[encoded data removed]",
      "text/plain": [
       "<Figure size 640x480 with 1 Axes>"
      ]
     },
     "metadata": {},
     "output_type": "display_data"
    }
   ],
   "source": [
    "#Let us plot\n",
    "import matplotlib.pyplot as plt\n",
    "fig, ax = plt.subplots()\n",
    "ax.hist(results , bins = 15)\n",
    "plt.show()"
   ]
  },
  {
   "cell_type": "code",
   "execution_count": 303,
   "id": "aa4e4235-fa76-4b9b-8b63-0df55761876e",
   "metadata": {},
   "outputs": [
    {
     "name": "stdout",
     "output_type": "stream",
     "text": [
      "166.645\n",
      "833.225\n",
      "833.355\n"
     ]
    }
   ],
   "source": [
    "#Our win and loss\n",
    "print(results.mean())   # Avg mean\n",
    "print(results.mean() * 5)   #We will win on average \n",
    "print( 1000 - results.mean())   #We will pay  on average "
   ]
  },
  {
   "cell_type": "code",
   "execution_count": null,
   "id": "8ba5619e-331f-44c2-a3d2-a0f5d129b891",
   "metadata": {},
   "outputs": [],
   "source": []
  },
  {
   "cell_type": "code",
   "execution_count": null,
   "id": "15a28afa-59a8-4a70-a970-aad3e65203d6",
   "metadata": {},
   "outputs": [],
   "source": []
  },
  {
   "cell_type": "code",
   "execution_count": null,
   "id": "def9cf1e-ef97-4052-a593-a44a712785b0",
   "metadata": {},
   "outputs": [],
   "source": []
  }
 ],
 "metadata": {
  "kernelspec": {
   "display_name": "Python 3 (ipykernel)",
   "language": "python",
   "name": "python3"
  },
  "language_info": {
   "codemirror_mode": {
    "name": "ipython",
    "version": 3
   },
   "file_extension": ".py",
   "mimetype": "text/x-python",
   "name": "python",
   "nbconvert_exporter": "python",
   "pygments_lexer": "ipython3",
   "version": "3.12.4"
  }
 },
 "nbformat": 4,
 "nbformat_minor": 5
}
