{
 "cells": [
  {
   "cell_type": "code",
   "execution_count": 3,
   "id": "a701be22-616f-4e69-8379-d2f157dc5623",
   "metadata": {},
   "outputs": [],
   "source": [
    "import math\n"
   ]
  },
  {
   "cell_type": "code",
   "execution_count": 10,
   "id": "32a58f3f-ef8d-4a57-bf96-8dd609abc528",
   "metadata": {},
   "outputs": [],
   "source": [
    "#Define setting\n",
    "Lambda = 8\n",
    "x=4"
   ]
  },
  {
   "cell_type": "code",
   "execution_count": 14,
   "id": "6d1b7455-dec0-4bc0-85ae-82105f887309",
   "metadata": {},
   "outputs": [
    {
     "data": {
      "text/plain": [
       "0.05725228849536204"
      ]
     },
     "execution_count": 14,
     "metadata": {},
     "output_type": "execute_result"
    }
   ],
   "source": [
    "#Apply The formula\n",
    "p_4 = (math.e**-Lambda)*(Lambda**x)/math.factorial(x)\n",
    "p_4"
   ]
  },
  {
   "cell_type": "code",
   "execution_count": 20,
   "id": "8e440ed7-00b4-4f9f-968f-9fba47b03e5f",
   "metadata": {},
   "outputs": [
    {
     "name": "stdout",
     "output_type": "stream",
     "text": [
      "The probability of 4 defective products in a day: 0.0573\n",
      "In percentage: 5.7252288495362045\n"
     ]
    }
   ],
   "source": [
    "#Print the result\n",
    "print(f'The probability of 4 defective products in a day: {p_4:.4f}')\n",
    "print('In percentage: ' + str((p_4*100)))\n"
   ]
  },
  {
   "cell_type": "markdown",
   "id": "409f8c17-a265-433f-94c5-59b77fff4902",
   "metadata": {},
   "source": [
    "# Defective Products Example"
   ]
  },
  {
   "cell_type": "code",
   "execution_count": 37,
   "id": "a1cd1168-d306-4f52-8cb4-9ebdee710f93",
   "metadata": {},
   "outputs": [],
   "source": [
    "from scipy.stats import poisson"
   ]
  },
  {
   "cell_type": "code",
   "execution_count": 39,
   "id": "5ac1425c-171e-4bd4-a8b7-9cc367a9c026",
   "metadata": {},
   "outputs": [],
   "source": [
    "\n",
    "Lambda = 3\n"
   ]
  },
  {
   "cell_type": "code",
   "execution_count": null,
   "id": "0c687aa0-46c4-4c91-907d-a5277d9d706a",
   "metadata": {},
   "outputs": [],
   "source": [
    "p_4 = poisson.pmf(4,Lambda)"
   ]
  },
  {
   "cell_type": "code",
   "execution_count": 111,
   "id": "521306d2-7361-4348-b25d-08e8ed19ee1d",
   "metadata": {},
   "outputs": [],
   "source": [
    "# Calculate CDF \n",
    "cdf_4 = poisson.cdf(4,Lambda)"
   ]
  },
  {
   "cell_type": "code",
   "execution_count": 44,
   "id": "7a34cfa9-fd4b-42ac-993b-d3ee84cc6efb",
   "metadata": {},
   "outputs": [
    {
     "name": "stdout",
     "output_type": "stream",
     "text": [
      "The probability of 4 defective products in a day (PMF): 0.168\n"
     ]
    }
   ],
   "source": [
    "print(\"The probability of 4 defective products in a day (PMF): {:.3f}\".format(p_4))"
   ]
  },
  {
   "cell_type": "code",
   "execution_count": 48,
   "id": "ef5aa126-9392-4b9e-8e90-ed571e04c140",
   "metadata": {},
   "outputs": [
    {
     "name": "stdout",
     "output_type": "stream",
     "text": [
      "The probability of upto 4 defective products in a day (PMF): 0.815\n"
     ]
    }
   ],
   "source": [
    "print(\"The probability of upto 4 defective products in a day (PMF): {:.3f}\".format(cdf_4))"
   ]
  },
  {
   "cell_type": "markdown",
   "id": "4138c6f2-8a1e-4f40-9a86-9e107612e6bd",
   "metadata": {},
   "source": [
    "# Solve "
   ]
  },
  {
   "cell_type": "code",
   "execution_count": 124,
   "id": "38b649f3-d11d-47e8-b82a-e8478da1965b",
   "metadata": {},
   "outputs": [],
   "source": [
    "# Solve \n",
    "# A life insaurance salesman sells on the average 3 life insaurance policies per week. Use poisson's law to calculate \n",
    "# probability :\n",
    "# a.In agiven week he will sell some policies\n",
    "# b. In a given week, he will sell 2 or more policies but not more than five policies\n",
    "# c. Assuming that per week,there are 5 working days, what is the probability that a given day, he will sell one policy"
   ]
  },
  {
   "cell_type": "code",
   "execution_count": 126,
   "id": "7fe8af5e-9be6-44a7-adf1-40e47ad6f114",
   "metadata": {},
   "outputs": [
    {
     "name": "stdout",
     "output_type": "stream",
     "text": [
      "Probability of selling  some policies is 0.950212931632136\n"
     ]
    }
   ],
   "source": [
    "# A life insaurance salesman sells on the average 3 life insaurance policies per week. Use poisson's law to calculate \n",
    "# probability\n",
    "#a.In agiven week he will sell some policies\n",
    "Lambda = 3\n",
    "cdf = poisson.cdf(0,Lambda)\n",
    "cdf_some = 1 - cdf\n",
    "print(f\"Probability of selling  some policies is {cdf_some}\")"
   ]
  },
  {
   "cell_type": "code",
   "execution_count": 144,
   "id": "c5d7dcc1-85b0-4d79-b143-e49137c8069f",
   "metadata": {},
   "outputs": [],
   "source": [
    "# b. In a given week, he will sell 2 or more policies but not more than five policies\n",
    "cdf_2 =  poisson.pmf(2,Lambda)\n",
    "cdf_3 =  poisson.pmf(3,Lambda)\n",
    "cdf_4 =  poisson.pmf(4,Lambda)\n",
    "cdf_5 =  poisson.pmf(5,Lambda)"
   ]
  },
  {
   "cell_type": "code",
   "execution_count": 146,
   "id": "24b1ee25-abdb-47dc-960e-ef14748725cf",
   "metadata": {},
   "outputs": [],
   "source": [
    "cdf_total = cdf_2+cdf_3+cdf_4"
   ]
  },
  {
   "cell_type": "code",
   "execution_count": 148,
   "id": "8e80dfa4-c2ce-4cce-b334-656fe550c58c",
   "metadata": {},
   "outputs": [
    {
     "data": {
      "text/plain": [
       "0.6161149710523164"
      ]
     },
     "execution_count": 148,
     "metadata": {},
     "output_type": "execute_result"
    }
   ],
   "source": [
    "cdf_total"
   ]
  },
  {
   "cell_type": "code",
   "execution_count": 134,
   "id": "5e0f3709-695b-4c60-bec1-022d96760807",
   "metadata": {},
   "outputs": [],
   "source": [
    "# c. Assuming that per week,there are 5 working days, what is the probability that a given day, he will sell one policy\n",
    "Lambda = 3/5\n",
    "cdf_day1 = poisson.pmf(1,Lambda)"
   ]
  },
  {
   "cell_type": "code",
   "execution_count": 136,
   "id": "4ed49917-ae25-49f1-9ddc-9dc948b40e0e",
   "metadata": {},
   "outputs": [
    {
     "data": {
      "text/plain": [
       "0.3292869816564159"
      ]
     },
     "execution_count": 136,
     "metadata": {},
     "output_type": "execute_result"
    }
   ],
   "source": [
    "cdf_day1"
   ]
  },
  {
   "cell_type": "code",
   "execution_count": 142,
   "id": "28963d8c-d01d-4c3c-8c50-941164be54fd",
   "metadata": {},
   "outputs": [
    {
     "data": {
      "text/plain": [
       "0.22404180765538775"
      ]
     },
     "execution_count": 142,
     "metadata": {},
     "output_type": "execute_result"
    }
   ],
   "source": [
    "# What is the probability that he will sell 3 policies next week\n",
    "Lambda = 3\n",
    "cdf_3policies = poisson.pmf(3,Lambda)\n",
    "cdf_3policies"
   ]
  },
  {
   "cell_type": "code",
   "execution_count": null,
   "id": "27acc42e-36f5-4392-9bc7-ea90d7c9767f",
   "metadata": {},
   "outputs": [],
   "source": []
  },
  {
   "cell_type": "code",
   "execution_count": null,
   "id": "96a4959e-0e57-415c-8b39-aa24dee93050",
   "metadata": {},
   "outputs": [],
   "source": []
  }
 ],
 "metadata": {
  "kernelspec": {
   "display_name": "Python 3 (ipykernel)",
   "language": "python",
   "name": "python3"
  },
  "language_info": {
   "codemirror_mode": {
    "name": "ipython",
    "version": 3
   },
   "file_extension": ".py",
   "mimetype": "text/x-python",
   "name": "python",
   "nbconvert_exporter": "python",
   "pygments_lexer": "ipython3",
   "version": "3.12.4"
  }
 },
 "nbformat": 4,
 "nbformat_minor": 5
}
