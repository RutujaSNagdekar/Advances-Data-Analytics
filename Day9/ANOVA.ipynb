{
 "cells": [
  {
   "cell_type": "code",
   "execution_count": 40,
   "id": "27118108-2dc7-4932-aedf-0df9d662a8d7",
   "metadata": {},
   "outputs": [],
   "source": [
    "from scipy.stats import f_oneway\n"
   ]
  },
  {
   "cell_type": "code",
   "execution_count": 42,
   "id": "521ce10b-44e4-47ca-84b0-09e3d58145d1",
   "metadata": {},
   "outputs": [],
   "source": [
    "from math import sqrt\n",
    "from scipy import stats\n",
    "import pandas as pd"
   ]
  },
  {
   "cell_type": "code",
   "execution_count": 44,
   "id": "2bff24cd-a38c-4001-8590-4d2c94a01af2",
   "metadata": {},
   "outputs": [],
   "source": [
    "df = pd.read_csv('cust_seg.csv')"
   ]
  },
  {
   "cell_type": "code",
   "execution_count": 46,
   "id": "28ae02b8-8cb8-498e-bb00-4817a9944477",
   "metadata": {},
   "outputs": [
    {
     "data": {
      "text/html": [
       "<div>\n",
       "<style scoped>\n",
       "    .dataframe tbody tr th:only-of-type {\n",
       "        vertical-align: middle;\n",
       "    }\n",
       "\n",
       "    .dataframe tbody tr th {\n",
       "        vertical-align: top;\n",
       "    }\n",
       "\n",
       "    .dataframe thead th {\n",
       "        text-align: right;\n",
       "    }\n",
       "</style>\n",
       "<table border=\"1\" class=\"dataframe\">\n",
       "  <thead>\n",
       "    <tr style=\"text-align: right;\">\n",
       "      <th></th>\n",
       "      <th>custid</th>\n",
       "      <th>sex</th>\n",
       "      <th>AqChannel</th>\n",
       "      <th>region</th>\n",
       "      <th>Marital_status</th>\n",
       "      <th>segment</th>\n",
       "      <th>pre_usage</th>\n",
       "      <th>Post_usage_1month</th>\n",
       "      <th>Latest_mon_usage</th>\n",
       "      <th>post_usage_2ndmonth</th>\n",
       "    </tr>\n",
       "  </thead>\n",
       "  <tbody>\n",
       "    <tr>\n",
       "      <th>0</th>\n",
       "      <td>70</td>\n",
       "      <td>0</td>\n",
       "      <td>4</td>\n",
       "      <td>1</td>\n",
       "      <td>1</td>\n",
       "      <td>1</td>\n",
       "      <td>57</td>\n",
       "      <td>52</td>\n",
       "      <td>49.2</td>\n",
       "      <td>57.2</td>\n",
       "    </tr>\n",
       "    <tr>\n",
       "      <th>1</th>\n",
       "      <td>121</td>\n",
       "      <td>1</td>\n",
       "      <td>4</td>\n",
       "      <td>2</td>\n",
       "      <td>1</td>\n",
       "      <td>3</td>\n",
       "      <td>68</td>\n",
       "      <td>59</td>\n",
       "      <td>63.6</td>\n",
       "      <td>64.9</td>\n",
       "    </tr>\n",
       "    <tr>\n",
       "      <th>2</th>\n",
       "      <td>86</td>\n",
       "      <td>0</td>\n",
       "      <td>4</td>\n",
       "      <td>3</td>\n",
       "      <td>1</td>\n",
       "      <td>1</td>\n",
       "      <td>44</td>\n",
       "      <td>33</td>\n",
       "      <td>64.8</td>\n",
       "      <td>36.3</td>\n",
       "    </tr>\n",
       "    <tr>\n",
       "      <th>3</th>\n",
       "      <td>141</td>\n",
       "      <td>0</td>\n",
       "      <td>4</td>\n",
       "      <td>3</td>\n",
       "      <td>1</td>\n",
       "      <td>3</td>\n",
       "      <td>63</td>\n",
       "      <td>44</td>\n",
       "      <td>56.4</td>\n",
       "      <td>48.4</td>\n",
       "    </tr>\n",
       "    <tr>\n",
       "      <th>4</th>\n",
       "      <td>172</td>\n",
       "      <td>0</td>\n",
       "      <td>4</td>\n",
       "      <td>2</td>\n",
       "      <td>1</td>\n",
       "      <td>2</td>\n",
       "      <td>47</td>\n",
       "      <td>52</td>\n",
       "      <td>68.4</td>\n",
       "      <td>57.2</td>\n",
       "    </tr>\n",
       "    <tr>\n",
       "      <th>...</th>\n",
       "      <td>...</td>\n",
       "      <td>...</td>\n",
       "      <td>...</td>\n",
       "      <td>...</td>\n",
       "      <td>...</td>\n",
       "      <td>...</td>\n",
       "      <td>...</td>\n",
       "      <td>...</td>\n",
       "      <td>...</td>\n",
       "      <td>...</td>\n",
       "    </tr>\n",
       "    <tr>\n",
       "      <th>195</th>\n",
       "      <td>31</td>\n",
       "      <td>1</td>\n",
       "      <td>2</td>\n",
       "      <td>2</td>\n",
       "      <td>2</td>\n",
       "      <td>1</td>\n",
       "      <td>55</td>\n",
       "      <td>59</td>\n",
       "      <td>62.4</td>\n",
       "      <td>64.9</td>\n",
       "    </tr>\n",
       "    <tr>\n",
       "      <th>196</th>\n",
       "      <td>145</td>\n",
       "      <td>1</td>\n",
       "      <td>4</td>\n",
       "      <td>2</td>\n",
       "      <td>1</td>\n",
       "      <td>3</td>\n",
       "      <td>42</td>\n",
       "      <td>46</td>\n",
       "      <td>45.6</td>\n",
       "      <td>50.6</td>\n",
       "    </tr>\n",
       "    <tr>\n",
       "      <th>197</th>\n",
       "      <td>187</td>\n",
       "      <td>1</td>\n",
       "      <td>4</td>\n",
       "      <td>2</td>\n",
       "      <td>2</td>\n",
       "      <td>1</td>\n",
       "      <td>57</td>\n",
       "      <td>41</td>\n",
       "      <td>68.4</td>\n",
       "      <td>45.1</td>\n",
       "    </tr>\n",
       "    <tr>\n",
       "      <th>198</th>\n",
       "      <td>118</td>\n",
       "      <td>1</td>\n",
       "      <td>4</td>\n",
       "      <td>2</td>\n",
       "      <td>1</td>\n",
       "      <td>1</td>\n",
       "      <td>55</td>\n",
       "      <td>62</td>\n",
       "      <td>69.6</td>\n",
       "      <td>68.2</td>\n",
       "    </tr>\n",
       "    <tr>\n",
       "      <th>199</th>\n",
       "      <td>137</td>\n",
       "      <td>1</td>\n",
       "      <td>4</td>\n",
       "      <td>3</td>\n",
       "      <td>1</td>\n",
       "      <td>2</td>\n",
       "      <td>63</td>\n",
       "      <td>65</td>\n",
       "      <td>78.0</td>\n",
       "      <td>71.5</td>\n",
       "    </tr>\n",
       "  </tbody>\n",
       "</table>\n",
       "<p>200 rows × 10 columns</p>\n",
       "</div>"
      ],
      "text/plain": [
       "     custid  sex  AqChannel  region  Marital_status  segment  pre_usage  \\\n",
       "0        70    0          4       1               1        1         57   \n",
       "1       121    1          4       2               1        3         68   \n",
       "2        86    0          4       3               1        1         44   \n",
       "3       141    0          4       3               1        3         63   \n",
       "4       172    0          4       2               1        2         47   \n",
       "..      ...  ...        ...     ...             ...      ...        ...   \n",
       "195      31    1          2       2               2        1         55   \n",
       "196     145    1          4       2               1        3         42   \n",
       "197     187    1          4       2               2        1         57   \n",
       "198     118    1          4       2               1        1         55   \n",
       "199     137    1          4       3               1        2         63   \n",
       "\n",
       "     Post_usage_1month  Latest_mon_usage  post_usage_2ndmonth  \n",
       "0                   52              49.2                 57.2  \n",
       "1                   59              63.6                 64.9  \n",
       "2                   33              64.8                 36.3  \n",
       "3                   44              56.4                 48.4  \n",
       "4                   52              68.4                 57.2  \n",
       "..                 ...               ...                  ...  \n",
       "195                 59              62.4                 64.9  \n",
       "196                 46              45.6                 50.6  \n",
       "197                 41              68.4                 45.1  \n",
       "198                 62              69.6                 68.2  \n",
       "199                 65              78.0                 71.5  \n",
       "\n",
       "[200 rows x 10 columns]"
      ]
     },
     "execution_count": 46,
     "metadata": {},
     "output_type": "execute_result"
    }
   ],
   "source": [
    "df"
   ]
  },
  {
   "cell_type": "code",
   "execution_count": 28,
   "id": "53d631e2-24ba-4546-88d0-34dc7d9f5612",
   "metadata": {},
   "outputs": [
    {
     "name": "stdout",
     "output_type": "stream",
     "text": [
      "segment\n",
      "2    105\n",
      "3     50\n",
      "1     45\n",
      "Name: count, dtype: int64\n"
     ]
    }
   ],
   "source": [
    "# find how many segments and how mANY CUSTOMERS PER SEGMENT WE HAVE\n",
    "print(df.segment.value_counts())"
   ]
  },
  {
   "cell_type": "code",
   "execution_count": 32,
   "id": "25442c73-b8f5-468e-9d28-aa8663795dcf",
   "metadata": {},
   "outputs": [
    {
     "data": {
      "text/plain": [
       "0      49.2\n",
       "2      64.8\n",
       "6      50.4\n",
       "8      64.8\n",
       "15     51.6\n",
       "17     72.0\n",
       "19     68.4\n",
       "20     42.0\n",
       "29     58.8\n",
       "30     68.4\n",
       "35     69.6\n",
       "43     51.6\n",
       "44     57.6\n",
       "45     75.6\n",
       "52     73.2\n",
       "62     46.8\n",
       "63     49.2\n",
       "70     55.2\n",
       "73     69.6\n",
       "77     67.2\n",
       "91     58.8\n",
       "94     55.2\n",
       "95     73.2\n",
       "101    67.2\n",
       "108    55.2\n",
       "116    66.0\n",
       "120    60.0\n",
       "121    55.2\n",
       "127    64.8\n",
       "140    51.6\n",
       "153    58.8\n",
       "154    67.2\n",
       "158    50.4\n",
       "167    46.8\n",
       "170    54.0\n",
       "172    50.4\n",
       "174    52.8\n",
       "179    72.0\n",
       "182    68.4\n",
       "186    66.0\n",
       "187    50.4\n",
       "191    50.4\n",
       "195    62.4\n",
       "197    68.4\n",
       "198    69.6\n",
       "Name: Latest_mon_usage, dtype: float64"
      ]
     },
     "execution_count": 32,
     "metadata": {},
     "output_type": "execute_result"
    }
   ],
   "source": [
    "# Separate segments\n",
    "s1 =df.Latest_mon_usage[df.segment==1]\n",
    "s2=df.Latest_mon_usage[df.segment==2]\n",
    "s3=df.Latest_mon_usage[df.segment==3]\n",
    "s1"
   ]
  },
  {
   "cell_type": "code",
   "execution_count": 48,
   "id": "6474ea3d-d373-4e76-aff7-b33de1e90ec4",
   "metadata": {},
   "outputs": [],
   "source": [
    "#ANOVA \n",
    "fsats,pval  =f_oneway(s1,s2,s3)\n"
   ]
  },
  {
   "cell_type": "code",
   "execution_count": 57,
   "id": "27d21bd7-b331-4576-aa57-3ae83cd7a222",
   "metadata": {},
   "outputs": [],
   "source": [
    "#Degree of freedom\n",
    "between_df = len([s1,s2,s3]) -1 # number of groups -1\n",
    "within_df = len(s1) +len(s2) +len(s3) - len([s1,s2,s3]) #total observations - number of groups"
   ]
  },
  {
   "cell_type": "code",
   "execution_count": 61,
   "id": "36e42694-47dd-4a2e-bdc7-aea6d25cd0d9",
   "metadata": {},
   "outputs": [],
   "source": [
    "#Critical value (alpha = 0.05)\n",
    "alpha = 0.05 # because we are only cheking th edifference , not <> etc\n",
    "critical_value = stats.f.ppf(1-alpha,between_df,within_df) # two tailed critical value"
   ]
  },
  {
   "cell_type": "code",
   "execution_count": 71,
   "id": "391ce03f-c84d-4bf6-8ad7-7477651c1843",
   "metadata": {},
   "outputs": [
    {
     "name": "stdout",
     "output_type": "stream",
     "text": [
      "\n",
      "F-statistics:29.28,p-value:7.36401083352674e-12\n",
      "\n",
      "crtical value (alpha =0.05):3.04\n"
     ]
    }
   ],
   "source": [
    "# print results \n",
    "print(f\"\\nF-statistics:{fsats:.2f},p-value:{pval}\")\n",
    "print(f\"\\ncrtical value (alpha ={alpha}):{critical_value:.2f}\")"
   ]
  },
  {
   "cell_type": "code",
   "execution_count": 73,
   "id": "1ecb1070-05f1-4021-9450-595e54ef6317",
   "metadata": {},
   "outputs": [
    {
     "name": "stdout",
     "output_type": "stream",
     "text": [
      "Reject null hypothesis : there is a significant difference in latest_mon_usage accross customer segment( p < 0.05)\n"
     ]
    }
   ],
   "source": [
    "#Interpretation (add your own logic here)\n",
    "if pval < alpha:\n",
    "    print(\"Reject null hypothesis : there is a significant difference in latest_mon_usage accross customer segment( p < 0.05)\")\n",
    "else:\n",
    "    print(\"fail to reject null hypothesis latest_mon_usage is similar accross customer segment( p < 0.05)\")"
   ]
  },
  {
   "cell_type": "code",
   "execution_count": 79,
   "id": "4718f55d-171b-485f-ad27-8032df3d8f36",
   "metadata": {},
   "outputs": [
    {
     "name": "stdout",
     "output_type": "stream",
     "text": [
      "F-score is gretaer than critical value suggesting there is a significant difference exists\n"
     ]
    }
   ],
   "source": [
    "#Interpretation (add your own logic here)\n",
    "if  fsats > critical_value:\n",
    "    print(\"F-score is gretaer than critical value suggesting there is a significant difference exists\")\n",
    "else:\n",
    "    print(\"F-score is not significant enough to reject null  hypothesis\")"
   ]
  },
  {
   "cell_type": "markdown",
   "id": "0f7ca091-faed-4434-ad6d-c9acd5beea38",
   "metadata": {},
   "source": [
    "# Exercise"
   ]
  },
  {
   "cell_type": "code",
   "execution_count": 77,
   "id": "91c05afe-1137-456a-bc64-540428e48d49",
   "metadata": {},
   "outputs": [],
   "source": [
    "#for studentsperformance.csv using anova find if there is a significant difference in maths marks \n",
    "# depending on the level of parental education"
   ]
  },
  {
   "cell_type": "code",
   "execution_count": 138,
   "id": "8d73c39e-ba62-4139-922e-3ce6bd5100f0",
   "metadata": {},
   "outputs": [
    {
     "data": {
      "text/html": [
       "<div>\n",
       "<style scoped>\n",
       "    .dataframe tbody tr th:only-of-type {\n",
       "        vertical-align: middle;\n",
       "    }\n",
       "\n",
       "    .dataframe tbody tr th {\n",
       "        vertical-align: top;\n",
       "    }\n",
       "\n",
       "    .dataframe thead th {\n",
       "        text-align: right;\n",
       "    }\n",
       "</style>\n",
       "<table border=\"1\" class=\"dataframe\">\n",
       "  <thead>\n",
       "    <tr style=\"text-align: right;\">\n",
       "      <th></th>\n",
       "      <th>gender</th>\n",
       "      <th>race/ethnicity</th>\n",
       "      <th>parental level of education</th>\n",
       "      <th>lunch</th>\n",
       "      <th>test preparation course</th>\n",
       "      <th>math score</th>\n",
       "      <th>reading score</th>\n",
       "      <th>writing score</th>\n",
       "    </tr>\n",
       "  </thead>\n",
       "  <tbody>\n",
       "    <tr>\n",
       "      <th>0</th>\n",
       "      <td>female</td>\n",
       "      <td>group B</td>\n",
       "      <td>bachelor's degree</td>\n",
       "      <td>standard</td>\n",
       "      <td>none</td>\n",
       "      <td>72</td>\n",
       "      <td>72</td>\n",
       "      <td>74</td>\n",
       "    </tr>\n",
       "    <tr>\n",
       "      <th>1</th>\n",
       "      <td>female</td>\n",
       "      <td>group C</td>\n",
       "      <td>some college</td>\n",
       "      <td>standard</td>\n",
       "      <td>completed</td>\n",
       "      <td>69</td>\n",
       "      <td>90</td>\n",
       "      <td>88</td>\n",
       "    </tr>\n",
       "    <tr>\n",
       "      <th>2</th>\n",
       "      <td>female</td>\n",
       "      <td>group B</td>\n",
       "      <td>master's degree</td>\n",
       "      <td>standard</td>\n",
       "      <td>none</td>\n",
       "      <td>90</td>\n",
       "      <td>95</td>\n",
       "      <td>93</td>\n",
       "    </tr>\n",
       "    <tr>\n",
       "      <th>3</th>\n",
       "      <td>male</td>\n",
       "      <td>group A</td>\n",
       "      <td>associate's degree</td>\n",
       "      <td>free/reduced</td>\n",
       "      <td>none</td>\n",
       "      <td>47</td>\n",
       "      <td>57</td>\n",
       "      <td>44</td>\n",
       "    </tr>\n",
       "    <tr>\n",
       "      <th>4</th>\n",
       "      <td>male</td>\n",
       "      <td>group C</td>\n",
       "      <td>some college</td>\n",
       "      <td>standard</td>\n",
       "      <td>none</td>\n",
       "      <td>76</td>\n",
       "      <td>78</td>\n",
       "      <td>75</td>\n",
       "    </tr>\n",
       "    <tr>\n",
       "      <th>...</th>\n",
       "      <td>...</td>\n",
       "      <td>...</td>\n",
       "      <td>...</td>\n",
       "      <td>...</td>\n",
       "      <td>...</td>\n",
       "      <td>...</td>\n",
       "      <td>...</td>\n",
       "      <td>...</td>\n",
       "    </tr>\n",
       "    <tr>\n",
       "      <th>995</th>\n",
       "      <td>female</td>\n",
       "      <td>group E</td>\n",
       "      <td>master's degree</td>\n",
       "      <td>standard</td>\n",
       "      <td>completed</td>\n",
       "      <td>88</td>\n",
       "      <td>99</td>\n",
       "      <td>95</td>\n",
       "    </tr>\n",
       "    <tr>\n",
       "      <th>996</th>\n",
       "      <td>male</td>\n",
       "      <td>group C</td>\n",
       "      <td>high school</td>\n",
       "      <td>free/reduced</td>\n",
       "      <td>none</td>\n",
       "      <td>62</td>\n",
       "      <td>55</td>\n",
       "      <td>55</td>\n",
       "    </tr>\n",
       "    <tr>\n",
       "      <th>997</th>\n",
       "      <td>female</td>\n",
       "      <td>group C</td>\n",
       "      <td>high school</td>\n",
       "      <td>free/reduced</td>\n",
       "      <td>completed</td>\n",
       "      <td>59</td>\n",
       "      <td>71</td>\n",
       "      <td>65</td>\n",
       "    </tr>\n",
       "    <tr>\n",
       "      <th>998</th>\n",
       "      <td>female</td>\n",
       "      <td>group D</td>\n",
       "      <td>some college</td>\n",
       "      <td>standard</td>\n",
       "      <td>completed</td>\n",
       "      <td>68</td>\n",
       "      <td>78</td>\n",
       "      <td>77</td>\n",
       "    </tr>\n",
       "    <tr>\n",
       "      <th>999</th>\n",
       "      <td>female</td>\n",
       "      <td>group D</td>\n",
       "      <td>some college</td>\n",
       "      <td>free/reduced</td>\n",
       "      <td>none</td>\n",
       "      <td>77</td>\n",
       "      <td>86</td>\n",
       "      <td>86</td>\n",
       "    </tr>\n",
       "  </tbody>\n",
       "</table>\n",
       "<p>1000 rows × 8 columns</p>\n",
       "</div>"
      ],
      "text/plain": [
       "     gender race/ethnicity parental level of education         lunch  \\\n",
       "0    female        group B           bachelor's degree      standard   \n",
       "1    female        group C                some college      standard   \n",
       "2    female        group B             master's degree      standard   \n",
       "3      male        group A          associate's degree  free/reduced   \n",
       "4      male        group C                some college      standard   \n",
       "..      ...            ...                         ...           ...   \n",
       "995  female        group E             master's degree      standard   \n",
       "996    male        group C                 high school  free/reduced   \n",
       "997  female        group C                 high school  free/reduced   \n",
       "998  female        group D                some college      standard   \n",
       "999  female        group D                some college  free/reduced   \n",
       "\n",
       "    test preparation course  math score  reading score  writing score  \n",
       "0                      none          72             72             74  \n",
       "1                 completed          69             90             88  \n",
       "2                      none          90             95             93  \n",
       "3                      none          47             57             44  \n",
       "4                      none          76             78             75  \n",
       "..                      ...         ...            ...            ...  \n",
       "995               completed          88             99             95  \n",
       "996                    none          62             55             55  \n",
       "997               completed          59             71             65  \n",
       "998               completed          68             78             77  \n",
       "999                    none          77             86             86  \n",
       "\n",
       "[1000 rows x 8 columns]"
      ]
     },
     "execution_count": 138,
     "metadata": {},
     "output_type": "execute_result"
    }
   ],
   "source": [
    "df1 = pd.read_csv('StudentsPerformance.csv')\n",
    "df1"
   ]
  },
  {
   "cell_type": "code",
   "execution_count": 140,
   "id": "859ef434-3afc-4229-b00b-9707d1415a86",
   "metadata": {},
   "outputs": [
    {
     "name": "stdout",
     "output_type": "stream",
     "text": [
      "parental level of education\n",
      "some college          226\n",
      "associate's degree    222\n",
      "high school           196\n",
      "some high school      179\n",
      "bachelor's degree     118\n",
      "master's degree        59\n",
      "Name: count, dtype: int64\n"
     ]
    }
   ],
   "source": [
    "print(df1['parental level of education'].value_counts())"
   ]
  },
  {
   "cell_type": "code",
   "execution_count": 142,
   "id": "a288fd94-7278-4a6b-9890-642e45210e9d",
   "metadata": {},
   "outputs": [
    {
     "name": "stdout",
     "output_type": "stream",
     "text": [
      "65.72\n",
      "65.78\n",
      "60.84\n",
      "63.72\n",
      "68.4\n",
      "72.08\n"
     ]
    }
   ],
   "source": [
    "# Separate segments\n",
    "e1 =df1['math score'][df1['parental level of education']== 'some college'].sample(n=50,replace=False)\n",
    "e2 =df1['math score'][df1['parental level of education']== \"associate's degree\"].sample(n=50,replace=False)\n",
    "e3 =df1['math score'][df1['parental level of education']== 'high school'].sample(n=50,replace=False)\n",
    "e4 =df1['math score'][df1['parental level of education']== 'some high school'].sample(n=50,replace=False)\n",
    "e5 =df1['math score'][df1['parental level of education']== \"bachelor's degree\"].sample(n=50,replace=False)\n",
    "e6 =df1['math score'][df1['parental level of education']== \"master's degree\"].sample(n=50,replace=False)\n",
    "\n",
    "print(e1.mean())\n",
    "print(e2.mean())\n",
    "print(e3.mean())\n",
    "print(e4.mean())\n",
    "print(e5.mean())\n",
    "print(e6.mean())\n"
   ]
  },
  {
   "cell_type": "code",
   "execution_count": 144,
   "id": "3fdbb5cc-279a-4d70-b8cc-19f89554d8b1",
   "metadata": {},
   "outputs": [
    {
     "data": {
      "text/plain": [
       "3.566269276893214"
      ]
     },
     "execution_count": 144,
     "metadata": {},
     "output_type": "execute_result"
    }
   ],
   "source": [
    "fstats, pval = f_oneway(e1,e2,e3,e4,e5,e6)\n",
    "fstats"
   ]
  },
  {
   "cell_type": "code",
   "execution_count": 146,
   "id": "5ee9d7ba-665c-4fc1-ac27-c205ecdf7cd7",
   "metadata": {},
   "outputs": [],
   "source": [
    "#Degree of freedom\n",
    "between_df = len([e1,e2,e3,e4,e5,e6]) -1 \n",
    "within_df = len(e1) +len(e2) +len(e3) + len(e4) +len(e5) +len(e6) - len([e1,e2,e3,e4,e5,e6])"
   ]
  },
  {
   "cell_type": "code",
   "execution_count": 148,
   "id": "66f1bcae-48ba-4ace-be16-e0023ea4b7ce",
   "metadata": {},
   "outputs": [
    {
     "name": "stdout",
     "output_type": "stream",
     "text": [
      "5\n",
      "294\n"
     ]
    }
   ],
   "source": [
    "print(between_df)\n",
    "print(within_df)"
   ]
  },
  {
   "cell_type": "code",
   "execution_count": 150,
   "id": "044f1fc5-ed14-43ea-acd4-813ca4540188",
   "metadata": {},
   "outputs": [
    {
     "data": {
      "text/plain": [
       "2.2447033282779048"
      ]
     },
     "execution_count": 150,
     "metadata": {},
     "output_type": "execute_result"
    }
   ],
   "source": [
    "alpha = 0.05 # because we are only cheking th edifference , not <> etc\n",
    "critical_value = stats.f.ppf(1-alpha,between_df,within_df) # two tailed critical value\n",
    "critical_value"
   ]
  },
  {
   "cell_type": "code",
   "execution_count": 152,
   "id": "04b78b36-7c59-4cc8-a0c0-c61bad3d0d39",
   "metadata": {},
   "outputs": [
    {
     "name": "stdout",
     "output_type": "stream",
     "text": [
      "\n",
      "F-statistics:29.28,p-value:0.003801688017287748\n",
      "\n",
      "crtical value (alpha =0.05):2.24\n"
     ]
    }
   ],
   "source": [
    "# print results \n",
    "print(f\"\\nF-statistics:{fsats:.2f},p-value:{pval}\")\n",
    "print(f\"\\ncrtical value (alpha ={alpha}):{critical_value:.2f}\")"
   ]
  },
  {
   "cell_type": "code",
   "execution_count": 154,
   "id": "abe19232-269f-42fa-9805-49947f8ce65f",
   "metadata": {},
   "outputs": [
    {
     "name": "stdout",
     "output_type": "stream",
     "text": [
      "Reject null hypothesis : there is a impact on score\n"
     ]
    }
   ],
   "source": [
    "#Interpretation (add your own logic here)\n",
    "if pval < alpha:\n",
    "    print(\"Reject null hypothesis : there is a impact on score\")\n",
    "else:\n",
    "    print(\"fail to reject null hypothesis\")"
   ]
  },
  {
   "cell_type": "code",
   "execution_count": null,
   "id": "475ba153-7cec-4eb3-a081-aa1aa93c98bd",
   "metadata": {},
   "outputs": [],
   "source": []
  },
  {
   "cell_type": "code",
   "execution_count": null,
   "id": "5eb3e219-f7f7-4c99-b0b0-7d077581a7cb",
   "metadata": {},
   "outputs": [],
   "source": []
  },
  {
   "cell_type": "code",
   "execution_count": null,
   "id": "bd3005ce-7999-46ed-8a12-7c2c0aa9997c",
   "metadata": {},
   "outputs": [],
   "source": []
  }
 ],
 "metadata": {
  "kernelspec": {
   "display_name": "Python 3 (ipykernel)",
   "language": "python",
   "name": "python3"
  },
  "language_info": {
   "codemirror_mode": {
    "name": "ipython",
    "version": 3
   },
   "file_extension": ".py",
   "mimetype": "text/x-python",
   "name": "python",
   "nbconvert_exporter": "python",
   "pygments_lexer": "ipython3",
   "version": "3.12.4"
  }
 },
 "nbformat": 4,
 "nbformat_minor": 5
}
