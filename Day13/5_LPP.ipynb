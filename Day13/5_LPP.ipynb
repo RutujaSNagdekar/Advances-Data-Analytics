{
 "cells": [
  {
   "cell_type": "code",
   "execution_count": 47,
   "id": "b9183497-db1f-4fa6-88e5-c53cad06e634",
   "metadata": {},
   "outputs": [
    {
     "data": {
      "text/plain": [
       "'\\nProblem(LPP)\\nWe run a factory making chairs \\n(Rs 300 profit per chair sold) and tables (Rs 1000 profit per table sold)\\nWe have 400 units of wood: One chair needs 5 units and one table needs 10 units\\nWe hvae 300 hours of worker time : One chair needs 2 hours, one table needs 56 ohurs \\nHoe many tables and chairs shouls we make to maximize profit?\\nObjectibe function: Maximize : 300x + 1000y profit\\nConstraints : \\n5x + 10y <= 400\\n2x + 6y <= 300\\nx,y >= 0\\n\\n'"
      ]
     },
     "execution_count": 47,
     "metadata": {},
     "output_type": "execute_result"
    }
   ],
   "source": [
    "'''\n",
    "Problem(LPP)\n",
    "We run a factory making chairs \n",
    "(Rs 300 profit per chair sold) and tables (Rs 1000 profit per table sold)\n",
    "We have 400 units of wood: One chair needs 5 units and one table needs 10 units\n",
    "We hvae 300 hours of worker time : One chair needs 2 hours, one table needs 56 ohurs \n",
    "Hoe many tables and chairs shouls we make to maximize profit?\n",
    "Objectibe function: Maximize : 300x + 1000y profit\n",
    "Constraints : \n",
    "5x + 10y <= 400\n",
    "2x + 6y <= 300\n",
    "x,y >= 0\n",
    "\n",
    "'''"
   ]
  },
  {
   "cell_type": "code",
   "execution_count": 48,
   "id": "92bf9091-72e9-4204-aa3d-87e635b134cc",
   "metadata": {},
   "outputs": [
    {
     "name": "stdout",
     "output_type": "stream",
     "text": [
      "Requirement already satisfied: pulp in c:\\users\\dbda.studentsdc\\appdata\\local\\anaconda3\\lib\\site-packages (2.9.0)\n"
     ]
    }
   ],
   "source": [
    "!pip install pulp\n",
    "from pulp import *"
   ]
  },
  {
   "cell_type": "code",
   "execution_count": 49,
   "id": "3423da49-6449-4a92-9941-a62f56447f39",
   "metadata": {},
   "outputs": [],
   "source": [
    "#Create problem varible to contain the problem data\n",
    "model = LpProblem(\"FactoryProductionProblem\", LpMaximize)"
   ]
  },
  {
   "cell_type": "code",
   "execution_count": 50,
   "id": "b73b4339-9317-4ee2-8de1-2ec05033b14f",
   "metadata": {},
   "outputs": [],
   "source": [
    "#Create variables for chairs and tables\n",
    "#Parametes - Name, Lower limit , Upper Limit, Data type"
   ]
  },
  {
   "cell_type": "code",
   "execution_count": 51,
   "id": "d571c053-cd1f-43fb-8d76-1b6e41eb4dde",
   "metadata": {},
   "outputs": [],
   "source": [
    "chairs = LpVariable('Chairs', 2 , None, LpInteger) #NUmber of chairs to produce\n",
    "tables = LpVariable('Tables', 0 , None, LpInteger) #NUmber of Tables to produce\n"
   ]
  },
  {
   "cell_type": "code",
   "execution_count": 52,
   "id": "b0b2c6fa-139b-4f55-aa0f-61111a75e8b6",
   "metadata": {},
   "outputs": [],
   "source": [
    "#Create maximize objective function\n",
    "model+= 300 * chairs + 1000 * tables, \"Profit\""
   ]
  },
  {
   "cell_type": "code",
   "execution_count": 53,
   "id": "6294490f-60e1-4a82-bfba-db7fd076a957",
   "metadata": {},
   "outputs": [],
   "source": [
    "#Create constraints\n",
    "model+= 5 * chairs + 10 * tables  <= 400 , \"Wood Constraint\" #Wood availability constraint\n",
    "model+= 2* chairs + 6 * tables <= 300 , \"Time Constraint\"\n",
    "#model+= chairs >=2  , 'Chair Constraint'"
   ]
  },
  {
   "cell_type": "code",
   "execution_count": 54,
   "id": "5a9cda04-d00e-406c-9ee6-06c704855f59",
   "metadata": {},
   "outputs": [
    {
     "data": {
      "text/plain": [
       "1"
      ]
     },
     "execution_count": 54,
     "metadata": {},
     "output_type": "execute_result"
    }
   ],
   "source": [
    "#Theproblem is solved using PuLP's choice of solver\n",
    "model.solve()"
   ]
  },
  {
   "cell_type": "code",
   "execution_count": 55,
   "id": "89c37ed3-e6e1-41d4-8361-eca4ada28acb",
   "metadata": {},
   "outputs": [
    {
     "name": "stdout",
     "output_type": "stream",
     "text": [
      "Chairs = 2.0\n",
      "Tables = 39.0\n"
     ]
    }
   ],
   "source": [
    "#Each of the variables is printed with its resolved optimum value \n",
    "for v in model.variables():\n",
    "    print(v.name, '=', v.varValue)"
   ]
  },
  {
   "cell_type": "code",
   "execution_count": 56,
   "id": "1e451064-a562-4a9b-ad37-8e02a4d27763",
   "metadata": {},
   "outputs": [
    {
     "name": "stdout",
     "output_type": "stream",
     "text": [
      "Total Profit:  39600.0\n"
     ]
    }
   ],
   "source": [
    "#Additional Information \n",
    "print('Total Profit: ', value(model.objective))  #Print objective function value"
   ]
  },
  {
   "cell_type": "code",
   "execution_count": null,
   "id": "65589b80-7202-42ed-9fbc-f4824bce0afa",
   "metadata": {},
   "outputs": [],
   "source": [
    "\n"
   ]
  }
 ],
 "metadata": {
  "kernelspec": {
   "display_name": "Python 3 (ipykernel)",
   "language": "python",
   "name": "python3"
  },
  "language_info": {
   "codemirror_mode": {
    "name": "ipython",
    "version": 3
   },
   "file_extension": ".py",
   "mimetype": "text/x-python",
   "name": "python",
   "nbconvert_exporter": "python",
   "pygments_lexer": "ipython3",
   "version": "3.12.4"
  }
 },
 "nbformat": 4,
 "nbformat_minor": 5
}
