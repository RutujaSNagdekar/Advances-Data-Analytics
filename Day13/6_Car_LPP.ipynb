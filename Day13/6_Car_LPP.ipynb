{
 "cells": [
  {
   "cell_type": "code",
   "execution_count": 53,
   "id": "d1a8505e-195d-40a6-a3e2-26944b85ee94",
   "metadata": {},
   "outputs": [],
   "source": [
    "# A car manufacturers manufacture two cars A and B\n",
    "#there is one robot,two engineers and one detailer at work\n",
    "#the deatler is going on ashort break ,so he only has 21 working days available\n",
    "#the two cars need the following resources\n",
    "#Robot time=: car A - 3 days; car B - 4 days\n",
    "#Engineer Time : car A - 5 days ; car B - 6 days\n",
    "#Detailer : car A : 1.5 days ; car B - 3 days\n",
    "#car A provide $30000 profit while Car B provide 45000 profit \n",
    "# optimize car production\n",
    "\n"
   ]
  },
  {
   "cell_type": "code",
   "execution_count": 54,
   "id": "f926c8ef-bc35-4c30-821d-fe13c552101f",
   "metadata": {},
   "outputs": [],
   "source": [
    "# Create the problem variable to contain the probleem data\n",
    "from pulp import *\n",
    "model = LpProblem(\"CarProductionProblem\",LpMaximize)"
   ]
  },
  {
   "cell_type": "code",
   "execution_count": 55,
   "id": "7bee7e46-9fe5-4dfe-8b37-c0b44dbce812",
   "metadata": {},
   "outputs": [],
   "source": [
    "#Create 2 variables for car A and Car B\n",
    "#Parameter : Name,lowerlimit,upperlimit,Data type\n",
    "car_A = LpVariable('A',0,None,LpInteger) # Car A production\n",
    "car_B = LpVariable('B',0,None,LpInteger) # Car B production"
   ]
  },
  {
   "cell_type": "code",
   "execution_count": 56,
   "id": "f70cd0f2-672a-4b98-934e-587515b96eab",
   "metadata": {},
   "outputs": [],
   "source": [
    "#Create maximize objective function(profit)\n",
    "model+=30000*car_A + 45000*car_B,'profit'"
   ]
  },
  {
   "cell_type": "code",
   "execution_count": 57,
   "id": "0549b36f-26c2-46b9-88c0-0c15b337e171",
   "metadata": {},
   "outputs": [],
   "source": [
    "#Create 3 constraints\n",
    "model+= 3*car_A+4*car_B <= 30 , 'robot constraints'\n",
    "model+= 5*car_A + 6*car_B <= 60 , 'Engineer constraint'  # since there are two engineers (30X2)\n",
    "model+=1.5*car_A + 3*car_B <=21 , 'Detailer constraints'\n",
    "model+= car_A >= 3 , 'Car A constraints'"
   ]
  },
  {
   "cell_type": "code",
   "execution_count": 72,
   "id": "561d1e3d-1521-4ee4-9d02-a51a97d684d6",
   "metadata": {},
   "outputs": [
    {
     "data": {
      "text/plain": [
       "1"
      ]
     },
     "execution_count": 72,
     "metadata": {},
     "output_type": "execute_result"
    }
   ],
   "source": [
    "# the problem is solved using pulps choice od solver\n",
    "model.solve()"
   ]
  },
  {
   "cell_type": "code",
   "execution_count": 74,
   "id": "3126b886-5967-4edc-b138-14d53c333d4a",
   "metadata": {},
   "outputs": [
    {
     "data": {
      "text/plain": [
       "[A, B]"
      ]
     },
     "execution_count": 74,
     "metadata": {},
     "output_type": "execute_result"
    }
   ],
   "source": [
    "model.variables()"
   ]
  },
  {
   "cell_type": "code",
   "execution_count": 59,
   "id": "2b850bf3-1e62-4947-ab53-97f9086cfae3",
   "metadata": {},
   "outputs": [
    {
     "name": "stdout",
     "output_type": "stream",
     "text": [
      "A = 3.0\n",
      "B = 5.0\n"
     ]
    }
   ],
   "source": [
    "#Each of the variables is printed with its resolved optimum value \n",
    "for v in model.variables():\n",
    "    print(v.name, '=', v.varValue)"
   ]
  },
  {
   "cell_type": "code",
   "execution_count": 60,
   "id": "48863c3a-44f5-4361-ba8c-230cf332371d",
   "metadata": {},
   "outputs": [
    {
     "name": "stdout",
     "output_type": "stream",
     "text": [
      "Total Profit:  315000.0\n"
     ]
    }
   ],
   "source": [
    "#Additional Information \n",
    "print('Total Profit: ', value(model.objective))  #Print objective function value"
   ]
  },
  {
   "cell_type": "code",
   "execution_count": null,
   "id": "78d3fc96-8195-4a27-8eff-bff0c8e6c017",
   "metadata": {},
   "outputs": [],
   "source": []
  }
 ],
 "metadata": {
  "kernelspec": {
   "display_name": "Python 3 (ipykernel)",
   "language": "python",
   "name": "python3"
  },
  "language_info": {
   "codemirror_mode": {
    "name": "ipython",
    "version": 3
   },
   "file_extension": ".py",
   "mimetype": "text/x-python",
   "name": "python",
   "nbconvert_exporter": "python",
   "pygments_lexer": "ipython3",
   "version": "3.12.4"
  }
 },
 "nbformat": 4,
 "nbformat_minor": 5
}
