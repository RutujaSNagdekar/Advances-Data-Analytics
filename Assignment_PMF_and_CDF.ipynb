{
 "cells": [
  {
   "cell_type": "code",
   "execution_count": null,
   "id": "fc9fe0a3-ee05-4851-9fe7-84110bb51eb1",
   "metadata": {},
   "outputs": [],
   "source": [
    "#use diabetes dataset\n",
    "#Oyut defination- Blood sugaR LEVEL > 126\n",
    "#Estimate the probability that exactly 50 in 100 people will have diabetes\n",
    "#plot the PMF and CDF for this , highlight the value 50\n"
   ]
  },
  {
   "cell_type": "code",
   "execution_count": 1,
   "id": "130e9711-89d7-4da5-ba23-0667063b5162",
   "metadata": {},
   "outputs": [],
   "source": [
    "import pandas as pd\n",
    "import numpy as np\n",
    "import matplotlib.pyplot as plt\n",
    "from scipy.stats import binom"
   ]
  },
  {
   "cell_type": "code",
   "execution_count": 3,
   "id": "a71ad7ff-240e-4323-94a5-316d34790db2",
   "metadata": {},
   "outputs": [],
   "source": [
    "diabetes_df = pd.read_csv(\"diabetes.csv\")"
   ]
  },
  {
   "cell_type": "code",
   "execution_count": 5,
   "id": "82ea9330-1f83-47aa-997a-7eddaa2c7ec1",
   "metadata": {},
   "outputs": [
    {
     "data": {
      "text/html": [
       "<div>\n",
       "<style scoped>\n",
       "    .dataframe tbody tr th:only-of-type {\n",
       "        vertical-align: middle;\n",
       "    }\n",
       "\n",
       "    .dataframe tbody tr th {\n",
       "        vertical-align: top;\n",
       "    }\n",
       "\n",
       "    .dataframe thead th {\n",
       "        text-align: right;\n",
       "    }\n",
       "</style>\n",
       "<table border=\"1\" class=\"dataframe\">\n",
       "  <thead>\n",
       "    <tr style=\"text-align: right;\">\n",
       "      <th></th>\n",
       "      <th>Pregnancies</th>\n",
       "      <th>Glucose</th>\n",
       "      <th>BloodPressure</th>\n",
       "      <th>SkinThickness</th>\n",
       "      <th>Insulin</th>\n",
       "      <th>BMI</th>\n",
       "      <th>DiabetesPedigreeFunction</th>\n",
       "      <th>Age</th>\n",
       "      <th>Outcome</th>\n",
       "    </tr>\n",
       "  </thead>\n",
       "  <tbody>\n",
       "    <tr>\n",
       "      <th>0</th>\n",
       "      <td>6</td>\n",
       "      <td>148</td>\n",
       "      <td>72</td>\n",
       "      <td>35</td>\n",
       "      <td>0</td>\n",
       "      <td>33.6</td>\n",
       "      <td>0.627</td>\n",
       "      <td>50</td>\n",
       "      <td>1</td>\n",
       "    </tr>\n",
       "    <tr>\n",
       "      <th>1</th>\n",
       "      <td>1</td>\n",
       "      <td>85</td>\n",
       "      <td>66</td>\n",
       "      <td>29</td>\n",
       "      <td>0</td>\n",
       "      <td>26.6</td>\n",
       "      <td>0.351</td>\n",
       "      <td>31</td>\n",
       "      <td>0</td>\n",
       "    </tr>\n",
       "    <tr>\n",
       "      <th>2</th>\n",
       "      <td>8</td>\n",
       "      <td>183</td>\n",
       "      <td>64</td>\n",
       "      <td>0</td>\n",
       "      <td>0</td>\n",
       "      <td>23.3</td>\n",
       "      <td>0.672</td>\n",
       "      <td>32</td>\n",
       "      <td>1</td>\n",
       "    </tr>\n",
       "    <tr>\n",
       "      <th>3</th>\n",
       "      <td>1</td>\n",
       "      <td>89</td>\n",
       "      <td>66</td>\n",
       "      <td>23</td>\n",
       "      <td>94</td>\n",
       "      <td>28.1</td>\n",
       "      <td>0.167</td>\n",
       "      <td>21</td>\n",
       "      <td>0</td>\n",
       "    </tr>\n",
       "    <tr>\n",
       "      <th>4</th>\n",
       "      <td>0</td>\n",
       "      <td>137</td>\n",
       "      <td>40</td>\n",
       "      <td>35</td>\n",
       "      <td>168</td>\n",
       "      <td>43.1</td>\n",
       "      <td>2.288</td>\n",
       "      <td>33</td>\n",
       "      <td>1</td>\n",
       "    </tr>\n",
       "    <tr>\n",
       "      <th>...</th>\n",
       "      <td>...</td>\n",
       "      <td>...</td>\n",
       "      <td>...</td>\n",
       "      <td>...</td>\n",
       "      <td>...</td>\n",
       "      <td>...</td>\n",
       "      <td>...</td>\n",
       "      <td>...</td>\n",
       "      <td>...</td>\n",
       "    </tr>\n",
       "    <tr>\n",
       "      <th>763</th>\n",
       "      <td>10</td>\n",
       "      <td>101</td>\n",
       "      <td>76</td>\n",
       "      <td>48</td>\n",
       "      <td>180</td>\n",
       "      <td>32.9</td>\n",
       "      <td>0.171</td>\n",
       "      <td>63</td>\n",
       "      <td>0</td>\n",
       "    </tr>\n",
       "    <tr>\n",
       "      <th>764</th>\n",
       "      <td>2</td>\n",
       "      <td>122</td>\n",
       "      <td>70</td>\n",
       "      <td>27</td>\n",
       "      <td>0</td>\n",
       "      <td>36.8</td>\n",
       "      <td>0.340</td>\n",
       "      <td>27</td>\n",
       "      <td>0</td>\n",
       "    </tr>\n",
       "    <tr>\n",
       "      <th>765</th>\n",
       "      <td>5</td>\n",
       "      <td>121</td>\n",
       "      <td>72</td>\n",
       "      <td>23</td>\n",
       "      <td>112</td>\n",
       "      <td>26.2</td>\n",
       "      <td>0.245</td>\n",
       "      <td>30</td>\n",
       "      <td>0</td>\n",
       "    </tr>\n",
       "    <tr>\n",
       "      <th>766</th>\n",
       "      <td>1</td>\n",
       "      <td>126</td>\n",
       "      <td>60</td>\n",
       "      <td>0</td>\n",
       "      <td>0</td>\n",
       "      <td>30.1</td>\n",
       "      <td>0.349</td>\n",
       "      <td>47</td>\n",
       "      <td>1</td>\n",
       "    </tr>\n",
       "    <tr>\n",
       "      <th>767</th>\n",
       "      <td>1</td>\n",
       "      <td>93</td>\n",
       "      <td>70</td>\n",
       "      <td>31</td>\n",
       "      <td>0</td>\n",
       "      <td>30.4</td>\n",
       "      <td>0.315</td>\n",
       "      <td>23</td>\n",
       "      <td>0</td>\n",
       "    </tr>\n",
       "  </tbody>\n",
       "</table>\n",
       "<p>768 rows × 9 columns</p>\n",
       "</div>"
      ],
      "text/plain": [
       "     Pregnancies  Glucose  BloodPressure  SkinThickness  Insulin   BMI  \\\n",
       "0              6      148             72             35        0  33.6   \n",
       "1              1       85             66             29        0  26.6   \n",
       "2              8      183             64              0        0  23.3   \n",
       "3              1       89             66             23       94  28.1   \n",
       "4              0      137             40             35      168  43.1   \n",
       "..           ...      ...            ...            ...      ...   ...   \n",
       "763           10      101             76             48      180  32.9   \n",
       "764            2      122             70             27        0  36.8   \n",
       "765            5      121             72             23      112  26.2   \n",
       "766            1      126             60              0        0  30.1   \n",
       "767            1       93             70             31        0  30.4   \n",
       "\n",
       "     DiabetesPedigreeFunction  Age  Outcome  \n",
       "0                       0.627   50        1  \n",
       "1                       0.351   31        0  \n",
       "2                       0.672   32        1  \n",
       "3                       0.167   21        0  \n",
       "4                       2.288   33        1  \n",
       "..                        ...  ...      ...  \n",
       "763                     0.171   63        0  \n",
       "764                     0.340   27        0  \n",
       "765                     0.245   30        0  \n",
       "766                     0.349   47        1  \n",
       "767                     0.315   23        0  \n",
       "\n",
       "[768 rows x 9 columns]"
      ]
     },
     "execution_count": 5,
     "metadata": {},
     "output_type": "execute_result"
    }
   ],
   "source": [
    "diabetes_df"
   ]
  },
  {
   "cell_type": "code",
   "execution_count": 15,
   "id": "f57f3d44-7a52-4929-9ac3-d75e797655ce",
   "metadata": {},
   "outputs": [],
   "source": [
    "def diabetes_126(row):\n",
    "    diabetes = row['Glucose']\n",
    "    if (diabetes) > 126:\n",
    "        return 1 #Success\n",
    "    else:\n",
    "        return 0 #Failure\n"
   ]
  },
  {
   "cell_type": "code",
   "execution_count": 17,
   "id": "80851c8c-9cf2-4b75-98cd-56f575e83406",
   "metadata": {},
   "outputs": [],
   "source": [
    "diabetes_df['diabetes_126'] = diabetes_df.apply(diabetes_126,axis = 1)"
   ]
  },
  {
   "cell_type": "code",
   "execution_count": 19,
   "id": "6e7d1ceb-9769-4dd7-b863-2d8afc122178",
   "metadata": {},
   "outputs": [
    {
     "data": {
      "text/html": [
       "<div>\n",
       "<style scoped>\n",
       "    .dataframe tbody tr th:only-of-type {\n",
       "        vertical-align: middle;\n",
       "    }\n",
       "\n",
       "    .dataframe tbody tr th {\n",
       "        vertical-align: top;\n",
       "    }\n",
       "\n",
       "    .dataframe thead th {\n",
       "        text-align: right;\n",
       "    }\n",
       "</style>\n",
       "<table border=\"1\" class=\"dataframe\">\n",
       "  <thead>\n",
       "    <tr style=\"text-align: right;\">\n",
       "      <th></th>\n",
       "      <th>Pregnancies</th>\n",
       "      <th>Glucose</th>\n",
       "      <th>BloodPressure</th>\n",
       "      <th>SkinThickness</th>\n",
       "      <th>Insulin</th>\n",
       "      <th>BMI</th>\n",
       "      <th>DiabetesPedigreeFunction</th>\n",
       "      <th>Age</th>\n",
       "      <th>Outcome</th>\n",
       "      <th>diabetes_126</th>\n",
       "    </tr>\n",
       "  </thead>\n",
       "  <tbody>\n",
       "    <tr>\n",
       "      <th>0</th>\n",
       "      <td>6</td>\n",
       "      <td>148</td>\n",
       "      <td>72</td>\n",
       "      <td>35</td>\n",
       "      <td>0</td>\n",
       "      <td>33.6</td>\n",
       "      <td>0.627</td>\n",
       "      <td>50</td>\n",
       "      <td>1</td>\n",
       "      <td>1</td>\n",
       "    </tr>\n",
       "    <tr>\n",
       "      <th>1</th>\n",
       "      <td>1</td>\n",
       "      <td>85</td>\n",
       "      <td>66</td>\n",
       "      <td>29</td>\n",
       "      <td>0</td>\n",
       "      <td>26.6</td>\n",
       "      <td>0.351</td>\n",
       "      <td>31</td>\n",
       "      <td>0</td>\n",
       "      <td>0</td>\n",
       "    </tr>\n",
       "    <tr>\n",
       "      <th>2</th>\n",
       "      <td>8</td>\n",
       "      <td>183</td>\n",
       "      <td>64</td>\n",
       "      <td>0</td>\n",
       "      <td>0</td>\n",
       "      <td>23.3</td>\n",
       "      <td>0.672</td>\n",
       "      <td>32</td>\n",
       "      <td>1</td>\n",
       "      <td>1</td>\n",
       "    </tr>\n",
       "    <tr>\n",
       "      <th>3</th>\n",
       "      <td>1</td>\n",
       "      <td>89</td>\n",
       "      <td>66</td>\n",
       "      <td>23</td>\n",
       "      <td>94</td>\n",
       "      <td>28.1</td>\n",
       "      <td>0.167</td>\n",
       "      <td>21</td>\n",
       "      <td>0</td>\n",
       "      <td>0</td>\n",
       "    </tr>\n",
       "    <tr>\n",
       "      <th>4</th>\n",
       "      <td>0</td>\n",
       "      <td>137</td>\n",
       "      <td>40</td>\n",
       "      <td>35</td>\n",
       "      <td>168</td>\n",
       "      <td>43.1</td>\n",
       "      <td>2.288</td>\n",
       "      <td>33</td>\n",
       "      <td>1</td>\n",
       "      <td>1</td>\n",
       "    </tr>\n",
       "    <tr>\n",
       "      <th>...</th>\n",
       "      <td>...</td>\n",
       "      <td>...</td>\n",
       "      <td>...</td>\n",
       "      <td>...</td>\n",
       "      <td>...</td>\n",
       "      <td>...</td>\n",
       "      <td>...</td>\n",
       "      <td>...</td>\n",
       "      <td>...</td>\n",
       "      <td>...</td>\n",
       "    </tr>\n",
       "    <tr>\n",
       "      <th>763</th>\n",
       "      <td>10</td>\n",
       "      <td>101</td>\n",
       "      <td>76</td>\n",
       "      <td>48</td>\n",
       "      <td>180</td>\n",
       "      <td>32.9</td>\n",
       "      <td>0.171</td>\n",
       "      <td>63</td>\n",
       "      <td>0</td>\n",
       "      <td>0</td>\n",
       "    </tr>\n",
       "    <tr>\n",
       "      <th>764</th>\n",
       "      <td>2</td>\n",
       "      <td>122</td>\n",
       "      <td>70</td>\n",
       "      <td>27</td>\n",
       "      <td>0</td>\n",
       "      <td>36.8</td>\n",
       "      <td>0.340</td>\n",
       "      <td>27</td>\n",
       "      <td>0</td>\n",
       "      <td>0</td>\n",
       "    </tr>\n",
       "    <tr>\n",
       "      <th>765</th>\n",
       "      <td>5</td>\n",
       "      <td>121</td>\n",
       "      <td>72</td>\n",
       "      <td>23</td>\n",
       "      <td>112</td>\n",
       "      <td>26.2</td>\n",
       "      <td>0.245</td>\n",
       "      <td>30</td>\n",
       "      <td>0</td>\n",
       "      <td>0</td>\n",
       "    </tr>\n",
       "    <tr>\n",
       "      <th>766</th>\n",
       "      <td>1</td>\n",
       "      <td>126</td>\n",
       "      <td>60</td>\n",
       "      <td>0</td>\n",
       "      <td>0</td>\n",
       "      <td>30.1</td>\n",
       "      <td>0.349</td>\n",
       "      <td>47</td>\n",
       "      <td>1</td>\n",
       "      <td>0</td>\n",
       "    </tr>\n",
       "    <tr>\n",
       "      <th>767</th>\n",
       "      <td>1</td>\n",
       "      <td>93</td>\n",
       "      <td>70</td>\n",
       "      <td>31</td>\n",
       "      <td>0</td>\n",
       "      <td>30.4</td>\n",
       "      <td>0.315</td>\n",
       "      <td>23</td>\n",
       "      <td>0</td>\n",
       "      <td>0</td>\n",
       "    </tr>\n",
       "  </tbody>\n",
       "</table>\n",
       "<p>768 rows × 10 columns</p>\n",
       "</div>"
      ],
      "text/plain": [
       "     Pregnancies  Glucose  BloodPressure  SkinThickness  Insulin   BMI  \\\n",
       "0              6      148             72             35        0  33.6   \n",
       "1              1       85             66             29        0  26.6   \n",
       "2              8      183             64              0        0  23.3   \n",
       "3              1       89             66             23       94  28.1   \n",
       "4              0      137             40             35      168  43.1   \n",
       "..           ...      ...            ...            ...      ...   ...   \n",
       "763           10      101             76             48      180  32.9   \n",
       "764            2      122             70             27        0  36.8   \n",
       "765            5      121             72             23      112  26.2   \n",
       "766            1      126             60              0        0  30.1   \n",
       "767            1       93             70             31        0  30.4   \n",
       "\n",
       "     DiabetesPedigreeFunction  Age  Outcome  diabetes_126  \n",
       "0                       0.627   50        1             1  \n",
       "1                       0.351   31        0             0  \n",
       "2                       0.672   32        1             1  \n",
       "3                       0.167   21        0             0  \n",
       "4                       2.288   33        1             1  \n",
       "..                        ...  ...      ...           ...  \n",
       "763                     0.171   63        0             0  \n",
       "764                     0.340   27        0             0  \n",
       "765                     0.245   30        0             0  \n",
       "766                     0.349   47        1             0  \n",
       "767                     0.315   23        0             0  \n",
       "\n",
       "[768 rows x 10 columns]"
      ]
     },
     "execution_count": 19,
     "metadata": {},
     "output_type": "execute_result"
    }
   ],
   "source": [
    "diabetes_df"
   ]
  },
  {
   "cell_type": "code",
   "execution_count": 23,
   "id": "552cd139-1d41-4908-ab20-20ffa6d5abc3",
   "metadata": {},
   "outputs": [
    {
     "data": {
      "text/plain": [
       "768"
      ]
     },
     "execution_count": 23,
     "metadata": {},
     "output_type": "execute_result"
    }
   ],
   "source": [
    "n = len(diabetes_df)\n",
    "n"
   ]
  },
  {
   "cell_type": "code",
   "execution_count": 27,
   "id": "adaed2bd-c0ff-47a0-87d3-8a03a5843e54",
   "metadata": {},
   "outputs": [
    {
     "data": {
      "text/plain": [
       "288"
      ]
     },
     "execution_count": 27,
     "metadata": {},
     "output_type": "execute_result"
    }
   ],
   "source": [
    "k = diabetes_df['diabetes_126'].sum()\n",
    "k"
   ]
  },
  {
   "cell_type": "code",
   "execution_count": 31,
   "id": "834cacd8-8702-4c2d-b45d-0f3eabe71159",
   "metadata": {},
   "outputs": [
    {
     "data": {
      "text/plain": [
       "0.375"
      ]
     },
     "execution_count": 31,
     "metadata": {},
     "output_type": "execute_result"
    }
   ],
   "source": [
    "p = k/n\n",
    "p"
   ]
  },
  {
   "cell_type": "code",
   "execution_count": 81,
   "id": "cd26b7c0-6a39-401c-ab34-327500cae1f4",
   "metadata": {},
   "outputs": [
    {
     "data": {
      "text/plain": [
       "0.0031580439037465443"
      ]
     },
     "execution_count": 81,
     "metadata": {},
     "output_type": "execute_result"
    }
   ],
   "source": [
    "# Taking trials 100 and  k = 50\n",
    "trials = 100\n",
    "k1 = 50\n",
    "probability_50 = binom.pmf(k1,trials,p)\n",
    "probability_50"
   ]
  },
  {
   "cell_type": "code",
   "execution_count": 35,
   "id": "0a439ddf-38b2-47c5-989f-705435ef8101",
   "metadata": {},
   "outputs": [
    {
     "data": {
      "text/plain": [
       "0.9959427485351988"
      ]
     },
     "execution_count": 35,
     "metadata": {},
     "output_type": "execute_result"
    }
   ],
   "source": [
    "probability_50_cdf = binom.cdf(k1,trials,p)\n",
    "probability_50_cdf"
   ]
  },
  {
   "cell_type": "code",
   "execution_count": 37,
   "id": "dacaf83a-acee-4425-a2fa-a7804726f066",
   "metadata": {},
   "outputs": [
    {
     "name": "stdout",
     "output_type": "stream",
     "text": [
      "Total trials(n): 768\n",
      "Number of success: 288\n",
      "Probability  of success: 0.3750\n",
      "Binomial probability of exactly 50 in 100 is  0.0032\n"
     ]
    }
   ],
   "source": [
    "#Output the result \n",
    "print(f\"Total trials(n): {n}\")\n",
    "print(f\"Number of success: {k}\")\n",
    "print(f\"Probability  of success: {p:.4f}\")\n",
    "print(f\"Binomial probability of exactly {k1} in {trials} is { probability_50: .4f}\")"
   ]
  },
  {
   "cell_type": "code",
   "execution_count": 39,
   "id": "b41d7459-f407-43ec-a9ac-34a7e05a212a",
   "metadata": {},
   "outputs": [],
   "source": [
    "x = np.arange(0,trials+1)"
   ]
  },
  {
   "cell_type": "code",
   "execution_count": 43,
   "id": "a3a0f27a-22de-4137-bf8b-c25fb082df13",
   "metadata": {},
   "outputs": [
    {
     "data": {
      "text/plain": [
       "array([3.87259191e-21, 2.32355515e-19, 6.90095879e-18, 1.35258792e-16,\n",
       "       1.96801543e-15, 2.26715377e-14, 2.15379608e-13, 1.73534427e-12,\n",
       "       1.21040263e-11, 7.42380280e-11, 4.05339633e-10, 1.98984911e-09,\n",
       "       8.85482853e-09, 3.59642266e-08, 1.34095188e-07, 4.61287446e-07,\n",
       "       1.47035374e-06, 4.35916637e-06, 1.20603603e-05, 3.12299856e-05,\n",
       "       7.58888650e-05, 1.73460263e-04, 3.73728021e-04, 7.60455277e-04,\n",
       "       1.46387641e-03, 2.67011057e-03, 4.62134522e-03, 7.59954547e-03,\n",
       "       1.18878604e-02, 1.77088127e-02, 2.51465141e-02, 3.40694707e-02,\n",
       "       4.40773777e-02, 5.44956670e-02, 6.44331122e-02, 7.29014641e-02,\n",
       "       7.89765861e-02, 8.19648893e-02, 8.15334952e-02, 7.77704108e-02,\n",
       "       7.11599259e-02, 6.24818861e-02, 5.26633040e-02, 4.26205344e-02,\n",
       "       3.31277790e-02, 2.47354083e-02, 1.77449668e-02, 1.22327006e-02,\n",
       "       8.10416412e-03, 5.16020246e-03, 3.15804390e-03, 1.85767288e-03,\n",
       "       1.05029967e-03, 5.70728877e-04, 2.98047302e-04, 1.49565555e-04,\n",
       "       7.21119642e-05, 3.33992255e-05, 1.48568969e-05, 6.34565765e-06,\n",
       "       2.60171964e-06, 1.02362740e-06, 3.86336792e-07, 1.39817125e-07,\n",
       "       4.84990651e-08, 1.61166124e-08, 5.12801304e-09, 1.56136516e-09,\n",
       "       4.54632798e-10, 1.26506518e-10, 3.36145890e-11, 8.52200847e-12,\n",
       "       2.05948538e-12, 4.73963759e-13, 1.03759634e-13, 2.15820038e-14,\n",
       "       4.25960602e-15, 7.96601645e-16, 1.40937214e-16, 2.35490029e-17,\n",
       "       3.70896795e-18, 5.49476733e-19, 7.63906678e-20, 9.93999051e-21,\n",
       "       1.20699885e-21, 1.36319870e-22, 1.42660329e-23, 1.37741007e-24,\n",
       "       1.22088620e-25, 9.87683218e-27, 7.24301027e-28, 4.77561116e-29,\n",
       "       2.80307612e-30, 1.44674896e-31, 6.46419750e-33, 2.44959063e-34,\n",
       "       7.65497072e-36, 1.89401337e-37, 3.47880008e-39, 4.21672737e-41,\n",
       "       2.53003642e-43])"
      ]
     },
     "execution_count": 43,
     "metadata": {},
     "output_type": "execute_result"
    }
   ],
   "source": [
    "pmf_values = binom.pmf(x,trials,p)\n",
    "pmf_values"
   ]
  },
  {
   "cell_type": "code",
   "execution_count": 46,
   "id": "f6a38da1-74ba-49bb-8a4f-f3b921d261d6",
   "metadata": {},
   "outputs": [
    {
     "data": {
      "text/plain": [
       "array([3.87259191e-21, 2.36228107e-19, 7.13718690e-18, 1.42395979e-16,\n",
       "       2.11041141e-15, 2.47819491e-14, 2.40161558e-13, 1.97550583e-12,\n",
       "       1.40795321e-11, 8.83175602e-11, 4.93657193e-10, 2.48350630e-09,\n",
       "       1.13383348e-08, 4.73025615e-08, 1.81397749e-07, 6.42685196e-07,\n",
       "       2.11303893e-06, 6.47220530e-06, 1.85325656e-05, 4.97625512e-05,\n",
       "       1.25651416e-04, 2.99111679e-04, 6.72839700e-04, 1.43329498e-03,\n",
       "       2.89717139e-03, 5.56728195e-03, 1.01886272e-02, 1.77881726e-02,\n",
       "       2.96760330e-02, 4.73848458e-02, 7.25313599e-02, 1.06600831e-01,\n",
       "       1.50678208e-01, 2.05173875e-01, 2.69606988e-01, 3.42508452e-01,\n",
       "       4.21485038e-01, 5.03449927e-01, 5.84983422e-01, 6.62753833e-01,\n",
       "       7.33913759e-01, 7.96395645e-01, 8.49058949e-01, 8.91679483e-01,\n",
       "       9.24807262e-01, 9.49542671e-01, 9.67287638e-01, 9.79520338e-01,\n",
       "       9.87624502e-01, 9.92784705e-01, 9.95942749e-01, 9.97800421e-01,\n",
       "       9.98850721e-01, 9.99421450e-01, 9.99719497e-01, 9.99869063e-01,\n",
       "       9.99941175e-01, 9.99974574e-01, 9.99989431e-01, 9.99995777e-01,\n",
       "       9.99998378e-01, 9.99999402e-01, 9.99999788e-01, 9.99999928e-01,\n",
       "       9.99999977e-01, 9.99999993e-01, 9.99999998e-01, 9.99999999e-01,\n",
       "       1.00000000e+00, 1.00000000e+00, 1.00000000e+00, 1.00000000e+00,\n",
       "       1.00000000e+00, 1.00000000e+00, 1.00000000e+00, 1.00000000e+00,\n",
       "       1.00000000e+00, 1.00000000e+00, 1.00000000e+00, 1.00000000e+00,\n",
       "       1.00000000e+00, 1.00000000e+00, 1.00000000e+00, 1.00000000e+00,\n",
       "       1.00000000e+00, 1.00000000e+00, 1.00000000e+00, 1.00000000e+00,\n",
       "       1.00000000e+00, 1.00000000e+00, 1.00000000e+00, 1.00000000e+00,\n",
       "       1.00000000e+00, 1.00000000e+00, 1.00000000e+00, 1.00000000e+00,\n",
       "       1.00000000e+00, 1.00000000e+00, 1.00000000e+00, 1.00000000e+00,\n",
       "       1.00000000e+00])"
      ]
     },
     "execution_count": 46,
     "metadata": {},
     "output_type": "execute_result"
    }
   ],
   "source": [
    "cdf_values = binom.cdf(x,trials,p)\n",
    "cdf_values"
   ]
  },
  {
   "cell_type": "code",
   "execution_count": 61,
   "id": "4df30af1-8d8a-4c43-a3a2-01c38b3968c0",
   "metadata": {},
   "outputs": [
    {
     "data": {
      "text/plain": [
       "<matplotlib.lines.Line2D at 0x20557ef8770>"
      ]
     },
     "execution_count": 61,
     "metadata": {},
     "output_type": "execute_result"
    },
    {
     "data": {
      "image/png": "[encoded data removed]",
      "text/plain": [
       "<Figure size 1200x500 with 1 Axes>"
      ]
     },
     "metadata": {},
     "output_type": "display_data"
    }
   ],
   "source": [
    "plt.figure(figsize=(12,5))\n",
    "plt.subplot(1,2,1)\n",
    "plt.bar(x,pmf_values,color='pink',alpha=0.7)\n",
    "plt.title(f\"Binomial Distribution  PMF (n={trials},p={p:.4f})\")\n",
    "plt.xlabel(\"number of Glucose > 126\")\n",
    "plt.ylabel(\"Probability\")\n",
    "plt.xticks(np.arange(0,trials+1,5))\n",
    "plt.grid(axis = 'y', linestyle='--',alpha=0.7)\n",
    "plt.axvline(x = 50, color='red', linestyle= '--',label = 'Exact 50') "
   ]
  },
  {
   "cell_type": "code",
   "execution_count": 71,
   "id": "87aceefc-0f55-42c7-9a9c-656ac7a5ef49",
   "metadata": {},
   "outputs": [
    {
     "data": {
      "image/png": "[encoded data removed]",
      "text/plain": [
       "<Figure size 1200x600 with 1 Axes>"
      ]
     },
     "metadata": {},
     "output_type": "display_data"
    }
   ],
   "source": [
    "plt.figure(figsize=(12,6))\n",
    "plt.subplot(1,2,2)\n",
    "\n",
    "plt.plot(x,cdf_values,color='orange',label='CDF',markersize=4,marker='o')\n",
    "plt.title(f\"Binomial Distribution CDF (n={trials},p={p:.4f})\")\n",
    "plt.xlabel(\"number of Successes\")\n",
    "plt.ylabel(\"Cumulative probability\")\n",
    "plt.xticks(np.arange(0,trials+1,5))\n",
    "plt.grid()\n",
    "plt.axhline(y= probability_50_cdf,color='blue',linestyle='--',label='Cumulative Probability at 50')\n",
    "plt.axvline(x=50,color='red',linestyle='--',label='50 Successes')\n",
    "plt.legend()\n",
    "\n",
    "plt.tight_layout()\n"
   ]
  },
  {
   "cell_type": "code",
   "execution_count": null,
   "id": "ac155fd2-e593-4a93-bcf8-4554ce60fca7",
   "metadata": {},
   "outputs": [],
   "source": []
  }
 ],
 "metadata": {
  "kernelspec": {
   "display_name": "Python 3 (ipykernel)",
   "language": "python",
   "name": "python3"
  },
  "language_info": {
   "codemirror_mode": {
    "name": "ipython",
    "version": 3
   },
   "file_extension": ".py",
   "mimetype": "text/x-python",
   "name": "python",
   "nbconvert_exporter": "python",
   "pygments_lexer": "ipython3",
   "version": "3.12.4"
  }
 },
 "nbformat": 4,
 "nbformat_minor": 5
}
